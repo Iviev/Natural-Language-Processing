{
 "cells": [
  {
   "cell_type": "markdown",
   "metadata": {},
   "source": [
    "# SI 618: Natural Language Processing"
   ]
  },
  {
   "cell_type": "markdown",
   "metadata": {
    "toc-hr-collapsed": false
   },
   "source": [
    "# Why learn NLP?\n",
    "- Natural language = human language\n",
    "- We use language to learn about the world\n",
    "- How machines understand human langauge?\n",
    "- How can we quantify the meaning of language?"
   ]
  },
  {
   "cell_type": "markdown",
   "metadata": {},
   "source": [
    "## Applications?\n",
    "- Probabily any service that uses text as information\n",
    "- Search engine, SNS\n",
    "    - What's the document about?\n",
    "    - How do you determine the similarity?\n",
    "- Virtual assistants: Alexa, Google Assistant, Cortana, etc. \n",
    "    - Understand the semantic information from your speech from parsed text\n",
    "- Biology, genetics\n",
    "    - Genetic information / DNA sequence as text\n",
    "    - Draw networks of proteins/molecules from vast amount of scientific papers "
   ]
  },
  {
   "cell_type": "markdown",
   "metadata": {},
   "source": [
    "# Outline for today\n",
    "- ```spaCy```\n",
    "    - Cleaning the data\n",
    "    - Extracting linguistic features\n",
    "- ```Word2Vec```\n",
    "    - Vector representation of words\n",
    "    - Word similarities\n",
    "    - Vector algebra for semantics"
   ]
  },
  {
   "cell_type": "code",
   "execution_count": 55,
   "metadata": {},
   "outputs": [],
   "source": [
    "import pandas as pd\n",
    "import numpy as np\n",
    "import re\n",
    "import seaborn as sns\n",
    "import matplotlib.pyplot as plt\n",
    "%matplotlib inline"
   ]
  },
  {
   "cell_type": "markdown",
   "metadata": {},
   "source": [
    "# spaCy?"
   ]
  },
  {
   "cell_type": "markdown",
   "metadata": {},
   "source": [
    "- Fast, and extensible NLP package for Python\n",
    "- <https://spacy.io/>"
   ]
  },
  {
   "cell_type": "code",
   "execution_count": 56,
   "metadata": {},
   "outputs": [],
   "source": [
    "import spacy"
   ]
  },
  {
   "cell_type": "code",
   "execution_count": 57,
   "metadata": {},
   "outputs": [],
   "source": [
    "# ! python -m spacy download en"
   ]
  },
  {
   "cell_type": "code",
   "execution_count": 58,
   "metadata": {},
   "outputs": [],
   "source": [
    "# loading up the language model: English\n",
    "nlp = spacy.load('en')"
   ]
  },
  {
   "cell_type": "markdown",
   "metadata": {},
   "source": [
    "# 0. Data cleaning"
   ]
  },
  {
   "cell_type": "code",
   "execution_count": 59,
   "metadata": {},
   "outputs": [],
   "source": [
    "# from https://en.wikipedia.org/wiki/Portal:History\n",
    "sentences = \"\"\"History (from Greek ἱστορία, historia, meaning \"inquiry, knowledge acquired by investigation\") is the study of the past as it is described in written documents. Events occurring before written record are considered prehistory. It is an umbrella term that relates to past events as well as the memory, discovery, collection, organization, presentation, and interpretation of information about these events. Scholars who write about history are called historians.\n",
    "\n",
    "History can also refer to the academic discipline which uses a narrative to examine and analyse a sequence of past events, and objectively determine the patterns of cause and effect that determine them. Historians sometimes debate the nature of history and its usefulness by discussing the study of the discipline as an end in itself and as a way of providing \"perspective\" on the problems of the present.\n",
    "\n",
    "Stories common to a particular culture, but not supported by external sources (such as the tales surrounding King Arthur), are usually classified as cultural heritage or legends, because they do not show the \"disinterested investigation\" required of the discipline of history. Herodotus, a 5th-century BC Greek historian is considered within the Western tradition to be the \"father of history\", and, along with his contemporary Thucydides, helped form the foundations for the modern study of human history. Their works continue to be read today, and the gap between the culture-focused Herodotus and the military-focused Thucydides remains a point of contention or approach in modern historical writing. In East Asia, a state chronicle, the Spring and Autumn Annals was known to be compiled from as early as 722 BC although only 2nd-century BC texts survived.\n",
    "\n",
    "Ancient influences have helped spawn variant interpretations of the nature of history which have evolved over the centuries and continue to change today. The modern study of history is wide-ranging, and includes the study of specific regions and the study of certain topical or thematical elements of historical investigation. Often history is taught as part of primary and secondary education, and the academic study of history is a major discipline in university studies.\"\"\""
   ]
  },
  {
   "cell_type": "markdown",
   "metadata": {},
   "source": [
    "### Section goal: calculate the frequency of each word\n",
    "- See which words are more frequent.\n",
    "- Generate more meaningful summary for the above paragraph."
   ]
  },
  {
   "cell_type": "markdown",
   "metadata": {},
   "source": [
    "## 0-1. lowering the case"
   ]
  },
  {
   "cell_type": "code",
   "execution_count": 60,
   "metadata": {},
   "outputs": [
    {
     "data": {
      "text/plain": [
       "str"
      ]
     },
     "execution_count": 60,
     "metadata": {},
     "output_type": "execute_result"
    }
   ],
   "source": [
    "type(sentences)"
   ]
  },
  {
   "cell_type": "code",
   "execution_count": 61,
   "metadata": {},
   "outputs": [
    {
     "data": {
      "text/plain": [
       "'History (from Greek ἱστορία, historia, meaning \"inquiry, knowledge acquired by investigation\") is the study of the past as it is described in written documents. Events occurring before written record are considered prehistory. It is an umbrella term that relates to past events as well as the memory, discovery, collection, organization, presentation, and interpretation of information about these events. Scholars who write about history are called historians.\\n\\nHistory can also refer to the academic discipline which uses a narrative to examine and analyse a sequence of past events, and objectively determine the patterns of cause and effect that determine them. Historians sometimes debate the nature of history and its usefulness by discussing the study of the discipline as an end in itself and as a way of providing \"perspective\" on the problems of the present.\\n\\nStories common to a particular culture, but not supported by external sources (such as the tales surrounding King Arthur), are usually classified as cultural heritage or legends, because they do not show the \"disinterested investigation\" required of the discipline of history. Herodotus, a 5th-century BC Greek historian is considered within the Western tradition to be the \"father of history\", and, along with his contemporary Thucydides, helped form the foundations for the modern study of human history. Their works continue to be read today, and the gap between the culture-focused Herodotus and the military-focused Thucydides remains a point of contention or approach in modern historical writing. In East Asia, a state chronicle, the Spring and Autumn Annals was known to be compiled from as early as 722 BC although only 2nd-century BC texts survived.\\n\\nAncient influences have helped spawn variant interpretations of the nature of history which have evolved over the centuries and continue to change today. The modern study of history is wide-ranging, and includes the study of specific regions and the study of certain topical or thematical elements of historical investigation. Often history is taught as part of primary and secondary education, and the academic study of history is a major discipline in university studies.'"
      ]
     },
     "execution_count": 61,
     "metadata": {},
     "output_type": "execute_result"
    }
   ],
   "source": [
    "sentences"
   ]
  },
  {
   "cell_type": "code",
   "execution_count": 62,
   "metadata": {},
   "outputs": [],
   "source": [
    "sent_low = sentences.lower()"
   ]
  },
  {
   "cell_type": "code",
   "execution_count": 63,
   "metadata": {},
   "outputs": [
    {
     "data": {
      "text/plain": [
       "'history (from greek ἱστορία, historia, meaning \"inquiry, knowledge acquired by investigation\") is the study of the past as it is described in written documents. events occurring before written record are considered prehistory. it is an umbrella term that relates to past events as well as the memory, discovery, collection, organization, presentation, and interpretation of information about these events. scholars who write about history are called historians.\\n\\nhistory can also refer to the academic discipline which uses a narrative to examine and analyse a sequence of past events, and objectively determine the patterns of cause and effect that determine them. historians sometimes debate the nature of history and its usefulness by discussing the study of the discipline as an end in itself and as a way of providing \"perspective\" on the problems of the present.\\n\\nstories common to a particular culture, but not supported by external sources (such as the tales surrounding king arthur), are usually classified as cultural heritage or legends, because they do not show the \"disinterested investigation\" required of the discipline of history. herodotus, a 5th-century bc greek historian is considered within the western tradition to be the \"father of history\", and, along with his contemporary thucydides, helped form the foundations for the modern study of human history. their works continue to be read today, and the gap between the culture-focused herodotus and the military-focused thucydides remains a point of contention or approach in modern historical writing. in east asia, a state chronicle, the spring and autumn annals was known to be compiled from as early as 722 bc although only 2nd-century bc texts survived.\\n\\nancient influences have helped spawn variant interpretations of the nature of history which have evolved over the centuries and continue to change today. the modern study of history is wide-ranging, and includes the study of specific regions and the study of certain topical or thematical elements of historical investigation. often history is taught as part of primary and secondary education, and the academic study of history is a major discipline in university studies.'"
      ]
     },
     "execution_count": 63,
     "metadata": {},
     "output_type": "execute_result"
    }
   ],
   "source": [
    "sent_low"
   ]
  },
  {
   "cell_type": "markdown",
   "metadata": {
    "toc-hr-collapsed": false
   },
   "source": [
    "## 0-2. remove punctuations and special characters"
   ]
  },
  {
   "cell_type": "markdown",
   "metadata": {},
   "source": [
    "#### Exclude special characters one by one"
   ]
  },
  {
   "cell_type": "code",
   "execution_count": 64,
   "metadata": {},
   "outputs": [
    {
     "data": {
      "text/plain": [
       "'history from greek ἱστορία historia meaning inquiry knowledge acquired by investigation is the study of the past as it is described in written documents events occurring before written record are considered prehistory it is an umbrella term that relates to past events as well as the memory discovery collection organization presentation and interpretation of information about these events scholars who write about history are called historians\\n\\nhistory can also refer to the academic discipline which uses a narrative to examine and analyse a sequence of past events and objectively determine the patterns of cause and effect that determine them historians sometimes debate the nature of history and its usefulness by discussing the study of the discipline as an end in itself and as a way of providing perspective on the problems of the present\\n\\nstories common to a particular culture but not supported by external sources such as the tales surrounding king arthur are usually classified as cultural heritage or legends because they do not show the disinterested investigation required of the discipline of history herodotus a 5thcentury bc greek historian is considered within the western tradition to be the father of history and along with his contemporary thucydides helped form the foundations for the modern study of human history their works continue to be read today and the gap between the culturefocused herodotus and the militaryfocused thucydides remains a point of contention or approach in modern historical writing in east asia a state chronicle the spring and autumn annals was known to be compiled from as early as 722 bc although only 2ndcentury bc texts survived\\n\\nancient influences have helped spawn variant interpretations of the nature of history which have evolved over the centuries and continue to change today the modern study of history is wideranging and includes the study of specific regions and the study of certain topical or thematical elements of historical investigation often history is taught as part of primary and secondary education and the academic study of history is a major discipline in university studies'"
      ]
     },
     "execution_count": 64,
     "metadata": {},
     "output_type": "execute_result"
    }
   ],
   "source": [
    "# from https://www.programiz.com/python-programming/examples/remove-punctuation\n",
    "punctuations = '''!()-[]{};:'\"\\,<>./?@#$%^&*_~''' # list of special characters you want to exclude\n",
    "sent_low_pnct = \"\"\n",
    "for char in sent_low:\n",
    "    if char not in punctuations:\n",
    "        sent_low_pnct = sent_low_pnct + char\n",
    "\n",
    "sent_low_pnct"
   ]
  },
  {
   "cell_type": "markdown",
   "metadata": {},
   "source": [
    "#### Alternatively, we can use regular expression to remove punctuations\n",
    "- So we don't have to list up all possible special characters that we want to remove\n",
    "- https://docs.python.org/3.4/library/re.html\n",
    "- https://en.wikipedia.org/wiki/Regular_expression"
   ]
  },
  {
   "cell_type": "code",
   "execution_count": 65,
   "metadata": {},
   "outputs": [],
   "source": [
    "import re\n",
    "sent_low_pnct2 = re.sub(r'[^\\w\\s]', '', sent_low)"
   ]
  },
  {
   "cell_type": "code",
   "execution_count": 66,
   "metadata": {},
   "outputs": [
    {
     "data": {
      "text/plain": [
       "'history from greek ἱστορία historia meaning inquiry knowledge acquired by investigation is the study of the past as it is described in written documents events occurring before written record are considered prehistory it is an umbrella term that relates to past events as well as the memory discovery collection organization presentation and interpretation of information about these events scholars who write about history are called historians\\n\\nhistory can also refer to the academic discipline which uses a narrative to examine and analyse a sequence of past events and objectively determine the patterns of cause and effect that determine them historians sometimes debate the nature of history and its usefulness by discussing the study of the discipline as an end in itself and as a way of providing perspective on the problems of the present\\n\\nstories common to a particular culture but not supported by external sources such as the tales surrounding king arthur are usually classified as cultural heritage or legends because they do not show the disinterested investigation required of the discipline of history herodotus a 5thcentury bc greek historian is considered within the western tradition to be the father of history and along with his contemporary thucydides helped form the foundations for the modern study of human history their works continue to be read today and the gap between the culturefocused herodotus and the militaryfocused thucydides remains a point of contention or approach in modern historical writing in east asia a state chronicle the spring and autumn annals was known to be compiled from as early as 722 bc although only 2ndcentury bc texts survived\\n\\nancient influences have helped spawn variant interpretations of the nature of history which have evolved over the centuries and continue to change today the modern study of history is wideranging and includes the study of specific regions and the study of certain topical or thematical elements of historical investigation often history is taught as part of primary and secondary education and the academic study of history is a major discipline in university studies'"
      ]
     },
     "execution_count": 66,
     "metadata": {},
     "output_type": "execute_result"
    }
   ],
   "source": [
    "sent_low_pnct2"
   ]
  },
  {
   "cell_type": "markdown",
   "metadata": {},
   "source": [
    "- However, special character ```\\n``` (linebreak) still exists in both cases. Let's remove these additionally."
   ]
  },
  {
   "cell_type": "code",
   "execution_count": 67,
   "metadata": {},
   "outputs": [
    {
     "data": {
      "text/plain": [
       "'\\n'"
      ]
     },
     "execution_count": 67,
     "metadata": {},
     "output_type": "execute_result"
    }
   ],
   "source": [
    "import os\n",
    "os.linesep"
   ]
  },
  {
   "cell_type": "code",
   "execution_count": 68,
   "metadata": {},
   "outputs": [
    {
     "data": {
      "text/plain": [
       "'history from greek ἱστορία historia meaning inquiry knowledge acquired by investigation is the study of the past as it is described in written documents events occurring before written record are considered prehistory it is an umbrella term that relates to past events as well as the memory discovery collection organization presentation and interpretation of information about these events scholars who write about history are called historianshistory can also refer to the academic discipline which uses a narrative to examine and analyse a sequence of past events and objectively determine the patterns of cause and effect that determine them historians sometimes debate the nature of history and its usefulness by discussing the study of the discipline as an end in itself and as a way of providing perspective on the problems of the presentstories common to a particular culture but not supported by external sources such as the tales surrounding king arthur are usually classified as cultural heritage or legends because they do not show the disinterested investigation required of the discipline of history herodotus a 5thcentury bc greek historian is considered within the western tradition to be the father of history and along with his contemporary thucydides helped form the foundations for the modern study of human history their works continue to be read today and the gap between the culturefocused herodotus and the militaryfocused thucydides remains a point of contention or approach in modern historical writing in east asia a state chronicle the spring and autumn annals was known to be compiled from as early as 722 bc although only 2ndcentury bc texts survivedancient influences have helped spawn variant interpretations of the nature of history which have evolved over the centuries and continue to change today the modern study of history is wideranging and includes the study of specific regions and the study of certain topical or thematical elements of historical investigation often history is taught as part of primary and secondary education and the academic study of history is a major discipline in university studies'"
      ]
     },
     "execution_count": 68,
     "metadata": {},
     "output_type": "execute_result"
    }
   ],
   "source": [
    "sent_low_pnct = sent_low_pnct.replace(os.linesep, \"\")\n",
    "sent_low_pnct"
   ]
  },
  {
   "cell_type": "markdown",
   "metadata": {},
   "source": [
    "### $\\rightarrow$ 3 possible ways to replace characters!"
   ]
  },
  {
   "cell_type": "markdown",
   "metadata": {},
   "source": [
    "### <font color='red'> Q1. How would you remove numbers from the paragraph? </font>"
   ]
  },
  {
   "cell_type": "code",
   "execution_count": 69,
   "metadata": {},
   "outputs": [
    {
     "data": {
      "text/plain": [
       "'history (from greek ἱστορία, historia, meaning \"inquiry, knowledge acquired by investigation\") is the study of the past as it is described in written documents. events occurring before written record are considered prehistory. it is an umbrella term that relates to past events as well as the memory, discovery, collection, organization, presentation, and interpretation of information about these events. scholars who write about history are called historians.\\n\\nhistory can also refer to the academic discipline which uses a narrative to examine and analyse a sequence of past events, and objectively determine the patterns of cause and effect that determine them. historians sometimes debate the nature of history and its usefulness by discussing the study of the discipline as an end in itself and as a way of providing \"perspective\" on the problems of the present.\\n\\nstories common to a particular culture, but not supported by external sources (such as the tales surrounding king arthur), are usually classified as cultural heritage or legends, because they do not show the \"disinterested investigation\" required of the discipline of history. herodotus, a th-century bc greek historian is considered within the western tradition to be the \"father of history\", and, along with his contemporary thucydides, helped form the foundations for the modern study of human history. their works continue to be read today, and the gap between the culture-focused herodotus and the military-focused thucydides remains a point of contention or approach in modern historical writing. in east asia, a state chronicle, the spring and autumn annals was known to be compiled from as early as  bc although only nd-century bc texts survived.\\n\\nancient influences have helped spawn variant interpretations of the nature of history which have evolved over the centuries and continue to change today. the modern study of history is wide-ranging, and includes the study of specific regions and the study of certain topical or thematical elements of historical investigation. often history is taught as part of primary and secondary education, and the academic study of history is a major discipline in university studies.'"
      ]
     },
     "execution_count": 69,
     "metadata": {},
     "output_type": "execute_result"
    }
   ],
   "source": [
    "punctuations = '''0123456789''' # list of special characters you want to exclude\n",
    "sent_low_pnct_nonum = \"\"\n",
    "for char in sent_low:\n",
    "    if char not in punctuations:\n",
    "        sent_low_pnct_nonum = sent_low_pnct_nonum + char\n",
    "\n",
    "sent_low_pnct_nonum"
   ]
  },
  {
   "cell_type": "code",
   "execution_count": 70,
   "metadata": {},
   "outputs": [
    {
     "data": {
      "text/plain": [
       "'history (from greek ἱστορία, historia, meaning \"inquiry, knowledge acquired by investigation\") is the study of the past as it is described in written documents. events occurring before written record are considered prehistory. it is an umbrella term that relates to past events as well as the memory, discovery, collection, organization, presentation, and interpretation of information about these events. scholars who write about history are called historians.\\n\\nhistory can also refer to the academic discipline which uses a narrative to examine and analyse a sequence of past events, and objectively determine the patterns of cause and effect that determine them. historians sometimes debate the nature of history and its usefulness by discussing the study of the discipline as an end in itself and as a way of providing \"perspective\" on the problems of the present.\\n\\nstories common to a particular culture, but not supported by external sources (such as the tales surrounding king arthur), are usually classified as cultural heritage or legends, because they do not show the \"disinterested investigation\" required of the discipline of history. herodotus, a th-century bc greek historian is considered within the western tradition to be the \"father of history\", and, along with his contemporary thucydides, helped form the foundations for the modern study of human history. their works continue to be read today, and the gap between the culture-focused herodotus and the military-focused thucydides remains a point of contention or approach in modern historical writing. in east asia, a state chronicle, the spring and autumn annals was known to be compiled from as early as  bc although only nd-century bc texts survived.\\n\\nancient influences have helped spawn variant interpretations of the nature of history which have evolved over the centuries and continue to change today. the modern study of history is wide-ranging, and includes the study of specific regions and the study of certain topical or thematical elements of historical investigation. often history is taught as part of primary and secondary education, and the academic study of history is a major discipline in university studies.'"
      ]
     },
     "execution_count": 70,
     "metadata": {},
     "output_type": "execute_result"
    }
   ],
   "source": [
    "re.sub(r'[0-9]', '', sent_low)"
   ]
  },
  {
   "cell_type": "markdown",
   "metadata": {},
   "source": [
    "## 0-3. Remove stop words"
   ]
  },
  {
   "cell_type": "markdown",
   "metadata": {},
   "source": [
    "- Stop words usually refers to the most common words in a language\n",
    "    - No single universial stopwords\n",
    "    - Often stopwords are removed to improve the performance of NLP models\n",
    "    - https://en.wikipedia.org/wiki/Stop_words\n",
    "    - https://en.wikipedia.org/wiki/Most_common_words_in_English"
   ]
  },
  {
   "cell_type": "markdown",
   "metadata": {},
   "source": [
    "#### Import the list of stop words from ```spaCy```"
   ]
  },
  {
   "cell_type": "code",
   "execution_count": 71,
   "metadata": {},
   "outputs": [],
   "source": [
    "from spacy.lang.en.stop_words import STOP_WORDS"
   ]
  },
  {
   "cell_type": "code",
   "execution_count": 72,
   "metadata": {},
   "outputs": [
    {
     "data": {
      "text/plain": [
       "array({'part', 'in', 'she', 'before', 'front', 'if', 'least', 'thence', 'why', 'twenty', 'wherever', 'because', 'therein', 'thereby', 'his', 'same', 'top', 'elsewhere', 'into', 'afterwards', 'no', 'go', 'side', 'them', 'any', 'every', 'therefore', 'everything', 'hereby', 'became', 'most', 'due', 'five', 'seem', 'throughout', 'whoever', 'down', 'us', 'fifty', 'regarding', 'thus', 'out', 'themselves', 'nevertheless', 'from', 'nor', 'onto', 'than', 'however', 'thru', 'both', 'upon', 'whenever', 'whose', 'yours', 'nothing', 'once', 'her', 'yourselves', 'around', 'less', 'myself', 'beyond', 'whatever', 'mine', 'fifteen', 're', 'further', 'above', 'hundred', 'namely', 'was', 'third', 'done', 'should', 'put', 'at', 'where', 'forty', 'there', 'beforehand', 'an', 'some', 'do', 'my', 'and', 'being', 'enough', 'for', 'really', 'sometimes', 'what', 'on', 'when', 'is', 'get', 'be', 'bottom', 'our', 'me', 'per', 'please', 'see', 'although', 'beside', 'more', 'while', 'you', 'has', 'say', 'yet', 'else', 'between', 'except', 'somewhere', 'serious', 'herself', 'were', 'are', 'becomes', 'noone', 'alone', 'who', 'ourselves', 'now', 'six', 'anyone', 'otherwise', 'whether', 'your', 'towards', 'only', 'almost', 'also', 'though', 'via', 'have', 'formerly', 'itself', 'sixty', 'amount', 'full', 'former', 'would', 'he', 'that', 'others', 'which', 'had', 'the', 'still', 'until', 'doing', 'during', 'call', 'it', 'over', 'someone', 'this', 'or', 'along', 'himself', 'up', 'by', 'amongst', 'again', 'whereupon', 'whole', 'latterly', 'four', 'each', 'such', 'three', 'we', 'must', 'none', 'hence', 'but', 'own', 'nowhere', 'they', 'make', 'very', 'ten', 'did', 'besides', 'even', 'name', 'ca', 'through', 'yourself', 'then', 'could', 'all', 'seeming', 'these', 'twelve', 'well', 'take', 'a', 'their', 'somehow', 'with', 'anywhere', 'as', 'meanwhile', 'toward', 'first', 'already', 'not', 'might', 'often', 'anything', 'does', 'thereafter', 'thereupon', 'how', 'mostly', 'hereafter', 'never', 'to', 'eight', 'below', 'its', 'neither', 'am', 'hers', 'show', 'used', 'anyway', 'back', 'behind', 'other', 'within', 'become', 'since', 'two', 'latter', 'together', 'under', 'cannot', 'here', 'last', 'made', 'either', 'moreover', 'unless', 'will', 'much', 'many', 'another', 'herein', 'just', 'those', 'next', 'perhaps', 'whereby', 'against', 'among', 'can', 'quite', 'without', 'indeed', 'nine', 'him', 'seemed', 'using', 'sometime', 'one', 'eleven', 'something', 'after', 'keep', 'may', 'move', 'whither', 'i', 'anyhow', 'everywhere', 'off', 'so', 'whereafter', 'too', 'ours', 'various', 'everyone', 'few', 'of', 'wherein', 'whom', 'across', 'been', 'empty', 'hereupon', 'always', 'seems', 'becoming', 'give', 'about', 'nobody', 'ever', 'several', 'whereas', 'whence', 'rather'},\n",
       "      dtype=object)"
      ]
     },
     "execution_count": 72,
     "metadata": {},
     "output_type": "execute_result"
    }
   ],
   "source": [
    "np.array(STOP_WORDS)"
   ]
  },
  {
   "cell_type": "markdown",
   "metadata": {},
   "source": [
    "#### Goal: We are going to count the frequency of each word from the paragraph, to see which words can be used to represent the paragraph's content. "
   ]
  },
  {
   "cell_type": "markdown",
   "metadata": {},
   "source": [
    "#### What if we do not remove stopwords?"
   ]
  },
  {
   "cell_type": "code",
   "execution_count": 73,
   "metadata": {},
   "outputs": [],
   "source": [
    "from collections import Counter"
   ]
  },
  {
   "cell_type": "markdown",
   "metadata": {},
   "source": [
    "- Note that our paragraph is stored as a single string object..."
   ]
  },
  {
   "cell_type": "code",
   "execution_count": 74,
   "metadata": {},
   "outputs": [
    {
     "data": {
      "text/plain": [
       "'history from greek ἱστορία historia meaning inquiry knowledge acquired by investigation is the study of the past as it is described in written documents events occurring before written record are considered prehistory it is an umbrella term that relates to past events as well as the memory discovery collection organization presentation and interpretation of information about these events scholars who write about history are called historianshistory can also refer to the academic discipline which uses a narrative to examine and analyse a sequence of past events and objectively determine the patterns of cause and effect that determine them historians sometimes debate the nature of history and its usefulness by discussing the study of the discipline as an end in itself and as a way of providing perspective on the problems of the presentstories common to a particular culture but not supported by external sources such as the tales surrounding king arthur are usually classified as cultural heritage or legends because they do not show the disinterested investigation required of the discipline of history herodotus a 5thcentury bc greek historian is considered within the western tradition to be the father of history and along with his contemporary thucydides helped form the foundations for the modern study of human history their works continue to be read today and the gap between the culturefocused herodotus and the militaryfocused thucydides remains a point of contention or approach in modern historical writing in east asia a state chronicle the spring and autumn annals was known to be compiled from as early as 722 bc although only 2ndcentury bc texts survivedancient influences have helped spawn variant interpretations of the nature of history which have evolved over the centuries and continue to change today the modern study of history is wideranging and includes the study of specific regions and the study of certain topical or thematical elements of historical investigation often history is taught as part of primary and secondary education and the academic study of history is a major discipline in university studies'"
      ]
     },
     "execution_count": 74,
     "metadata": {},
     "output_type": "execute_result"
    }
   ],
   "source": [
    "sent_low_pnct"
   ]
  },
  {
   "cell_type": "markdown",
   "metadata": {},
   "source": [
    "- Split the paragraph into a list of words"
   ]
  },
  {
   "cell_type": "code",
   "execution_count": 75,
   "metadata": {},
   "outputs": [],
   "source": [
    "words = sent_low_pnct.split()"
   ]
  },
  {
   "cell_type": "markdown",
   "metadata": {},
   "source": [
    "- Count the words from the list\n",
    "- Words that can occur in any kind of paragraphs...?"
   ]
  },
  {
   "cell_type": "code",
   "execution_count": 76,
   "metadata": {},
   "outputs": [],
   "source": [
    "# words"
   ]
  },
  {
   "cell_type": "code",
   "execution_count": 77,
   "metadata": {},
   "outputs": [
    {
     "data": {
      "text/plain": [
       "[('the', 27),\n",
       " ('of', 21),\n",
       " ('and', 15),\n",
       " ('history', 10),\n",
       " ('as', 10),\n",
       " ('to', 8),\n",
       " ('a', 8),\n",
       " ('is', 7),\n",
       " ('study', 7),\n",
       " ('in', 5)]"
      ]
     },
     "execution_count": 77,
     "metadata": {},
     "output_type": "execute_result"
    }
   ],
   "source": [
    "Counter(words).most_common(10)"
   ]
  },
  {
   "cell_type": "code",
   "execution_count": 78,
   "metadata": {},
   "outputs": [
    {
     "data": {
      "image/png": "[encoded data removed]",
      "text/plain": [
       "<Figure size 3240x720 with 1 Axes>"
      ]
     },
     "metadata": {},
     "output_type": "display_data"
    }
   ],
   "source": [
    "plt.figure(figsize=(45,10))\n",
    "sns.countplot(words, order=pd.Series(words).value_counts().index)\n",
    "# sns.countplot(words_nostop, order=[counted[0] for counted in Counter(words_nostop).most_common()])\n",
    "plt.xticks(rotation=90)\n",
    "plt.show()"
   ]
  },
  {
   "cell_type": "markdown",
   "metadata": {},
   "source": [
    "(double click the plot to enlarge)"
   ]
  },
  {
   "cell_type": "markdown",
   "metadata": {},
   "source": [
    "#### When we removed stopwords:"
   ]
  },
  {
   "cell_type": "code",
   "execution_count": 79,
   "metadata": {},
   "outputs": [],
   "source": [
    "# split sentence into words\n",
    "words_nostop = list()\n",
    "for word in words:\n",
    "    if word not in STOP_WORDS:\n",
    "        words_nostop.append(word)\n",
    "# words_nostop = [word for word in words if word not in STOP_WORDS]"
   ]
  },
  {
   "cell_type": "markdown",
   "metadata": {},
   "source": [
    "- More comprehensible, and unique list or words!"
   ]
  },
  {
   "cell_type": "code",
   "execution_count": 80,
   "metadata": {},
   "outputs": [
    {
     "data": {
      "text/plain": [
       "[('history', 10),\n",
       " ('study', 7),\n",
       " ('events', 4),\n",
       " ('discipline', 4),\n",
       " ('investigation', 3),\n",
       " ('past', 3),\n",
       " ('bc', 3),\n",
       " ('modern', 3),\n",
       " ('greek', 2),\n",
       " ('written', 2)]"
      ]
     },
     "execution_count": 80,
     "metadata": {},
     "output_type": "execute_result"
    }
   ],
   "source": [
    "Counter(words_nostop).most_common(10)"
   ]
  },
  {
   "cell_type": "code",
   "execution_count": 81,
   "metadata": {},
   "outputs": [
    {
     "data": {
      "image/png": "[encoded data removed]",
      "text/plain": [
       "<Figure size 3240x720 with 1 Axes>"
      ]
     },
     "metadata": {},
     "output_type": "display_data"
    }
   ],
   "source": [
    "plt.figure(figsize=(45,10))\n",
    "sns.countplot(words_nostop, order=pd.Series(words_nostop).value_counts().index)\n",
    "# sns.countplot(words_nostop, order=[counted[0] for counted in Counter(words_nostop).most_common()])\n",
    "plt.xticks(rotation=90)\n",
    "plt.show()"
   ]
  },
  {
   "cell_type": "markdown",
   "metadata": {},
   "source": [
    "(double click the plot to enlarge)"
   ]
  },
  {
   "cell_type": "markdown",
   "metadata": {},
   "source": [
    "### <font color='red'> Q2. Based on the word frequency results, what was the paragraph about? </font>"
   ]
  },
  {
   "cell_type": "markdown",
   "metadata": {},
   "source": [
    "The paragraph was about greek history investigation and study events related to that. "
   ]
  },
  {
   "cell_type": "markdown",
   "metadata": {},
   "source": [
    "# 1. Extracting linguistic features from spaCy"
   ]
  },
  {
   "cell_type": "markdown",
   "metadata": {},
   "source": [
    "## 1-1. Tokenize\n",
    "- Token: a semantic unit for analysis\n",
    "    - (Loosely) equal term for word\n",
    "        - ```sent_low_pnct.split()```\n",
    "    - Tricky cases\n",
    "        - aren't $\\rightarrow$ ![](https://nlp.stanford.edu/IR-book/html/htmledition/img88.png) ![](https://nlp.stanford.edu/IR-book/html/htmledition/img89.png) ? ![](https://nlp.stanford.edu/IR-book/html/htmledition/img86.png) ?\n",
    "        - O'Neil $\\rightarrow$ ![](https://nlp.stanford.edu/IR-book/html/htmledition/img83.png) ? ![](https://nlp.stanford.edu/IR-book/html/htmledition/img84.png) ![](https://nlp.stanford.edu/IR-book/html/htmledition/img81.png) ?\n",
    "        - https://nlp.stanford.edu/IR-book/html/htmledition/tokenization-1.html\n",
    "- In ```spaCy```:\n",
    "    - Many token types, like word, puntuation symbol, whitespace, etc."
   ]
  },
  {
   "cell_type": "markdown",
   "metadata": {},
   "source": [
    "### Let's disect the sentence!\n",
    "\n",
    "- initiating the ```spaCy``` object "
   ]
  },
  {
   "cell_type": "code",
   "execution_count": 82,
   "metadata": {},
   "outputs": [],
   "source": [
    "# examples partially taken from https://nlpforhackers.io/complete-guide-to-spacy/\n",
    "import spacy\n",
    "nlp = spacy.load('en')"
   ]
  },
  {
   "cell_type": "markdown",
   "metadata": {},
   "source": [
    "- Our sentence: \"Hello World!\"\n",
    "    - Pass the sentence string to the ```spaCy``` object ```nlp```"
   ]
  },
  {
   "cell_type": "code",
   "execution_count": 83,
   "metadata": {},
   "outputs": [],
   "source": [
    "doc = nlp(\"Hello World!\")"
   ]
  },
  {
   "cell_type": "markdown",
   "metadata": {},
   "source": [
    "- The sentence is considered as a short document."
   ]
  },
  {
   "cell_type": "code",
   "execution_count": 84,
   "metadata": {},
   "outputs": [
    {
     "name": "stdout",
     "output_type": "stream",
     "text": [
      "<class 'spacy.tokens.doc.Doc'> Hello World!\n"
     ]
    }
   ],
   "source": [
    "print(type(doc), doc)"
   ]
  },
  {
   "cell_type": "markdown",
   "metadata": {},
   "source": [
    "- As importing the sentence string above, ```spaCy``` splited the sentence into tokens (tokenization!)"
   ]
  },
  {
   "cell_type": "code",
   "execution_count": 85,
   "metadata": {},
   "outputs": [
    {
     "name": "stdout",
     "output_type": "stream",
     "text": [
      "0 Hello\n",
      "1 World\n",
      "2 !\n"
     ]
    }
   ],
   "source": [
    "for i,token in enumerate(doc):\n",
    "    print(i, token)"
   ]
  },
  {
   "cell_type": "markdown",
   "metadata": {},
   "source": [
    "- With index information (location from the sentence) of each token"
   ]
  },
  {
   "cell_type": "markdown",
   "metadata": {},
   "source": [
    "| 0 | 1 | 2 | 3 | 4 | 5 | 6 | 7 | 8 | 9 | 10| 11|\n",
    "|---|---|---|---|---|---|---|---|---|---|---|---|\n",
    "| H | e | l | l | o | _ | W | o | r | l | d | ! |"
   ]
  },
  {
   "cell_type": "code",
   "execution_count": 86,
   "metadata": {},
   "outputs": [
    {
     "name": "stdout",
     "output_type": "stream",
     "text": [
      "0 Hello 0\n",
      "1 World 6\n",
      "2 ! 11\n"
     ]
    }
   ],
   "source": [
    "for i, token in enumerate(doc):\n",
    "    print(i, token.text, token.idx) \n"
   ]
  },
  {
   "cell_type": "markdown",
   "metadata": {},
   "source": [
    "- And many more!\n",
    "    - https://spacy.io/api/token#attributes"
   ]
  },
  {
   "cell_type": "code",
   "execution_count": 87,
   "metadata": {},
   "outputs": [
    {
     "name": "stdout",
     "output_type": "stream",
     "text": [
      "text \t idx \t lemma \t lower \t is_punct \t is_space \t shape \t POS\n",
      "What\t0\twhat\twhat\tFalse\tFalse\tXxxx\tNOUN\n",
      "did\t5\tdo\tdid\tFalse\tFalse\txxx\tVERB\n",
      "you\t9\t-PRON-\tyou\tFalse\tFalse\txxx\tPRON\n",
      "do\t13\tdo\tdo\tFalse\tFalse\txx\tVERB\n",
      "during\t16\tduring\tduring\tFalse\tFalse\txxxx\tADP\n",
      "the\t23\tthe\tthe\tFalse\tFalse\txxx\tDET\n",
      "study\t27\tstudy\tstudy\tFalse\tFalse\txxxx\tNOUN\n",
      "break\t33\tbreak\tbreak\tFalse\tFalse\txxxx\tNOUN\n",
      "  \t39\t  \t  \tFalse\tTrue\t  \tSPACE\n",
      "?\t41\t?\t?\tTrue\tFalse\t?\tPUNCT\n"
     ]
    }
   ],
   "source": [
    "doc = nlp(\"What did you do during the study break   ?\")\n",
    "\n",
    "print(\"text \\t idx \\t lemma \\t lower \\t is_punct \\t is_space \\t shape \\t POS\")\n",
    "for token in doc:\n",
    "    print(\"{0}\\t{1}\\t{2}\\t{3}\\t{4}\\t{5}\\t{6}\\t{7}\".format(\n",
    "        token.text,\n",
    "        token.idx,\n",
    "        token.lemma_,\n",
    "        token.lower_,\n",
    "        token.is_punct,\n",
    "        token.is_space,\n",
    "        token.shape_,\n",
    "        token.pos_\n",
    "    ))\n"
   ]
  },
  {
   "cell_type": "markdown",
   "metadata": {},
   "source": [
    "## 1-2. Sentence detection"
   ]
  },
  {
   "cell_type": "markdown",
   "metadata": {},
   "source": [
    "- For the document with multiple sentences, we would need to separate between each sentences.\n",
    "- In ```spaCy```, the job is more convinient (and would cause less mistatkes) than using regular expression"
   ]
  },
  {
   "cell_type": "markdown",
   "metadata": {},
   "source": [
    "### <font color='red'> Q3. How would you separate sentences? What's your intuition? </font>"
   ]
  },
  {
   "cell_type": "markdown",
   "metadata": {},
   "source": [
    "Since senetences are seperated by punctuation we can split by punctuateions and then use the same method we would for a single sentence. "
   ]
  },
  {
   "cell_type": "markdown",
   "metadata": {},
   "source": [
    "- Our multiple sentence document: "
   ]
  },
  {
   "cell_type": "code",
   "execution_count": 88,
   "metadata": {},
   "outputs": [],
   "source": [
    "doc_multsent = \"These are apples. Those are oranges from N.Y.C. and...? How about pineapples? Not carrots!!!\""
   ]
  },
  {
   "cell_type": "markdown",
   "metadata": {},
   "source": [
    "- in regular expression..."
   ]
  },
  {
   "cell_type": "code",
   "execution_count": 89,
   "metadata": {},
   "outputs": [
    {
     "name": "stdout",
     "output_type": "stream",
     "text": [
      "0 These are apples.\n",
      "1 Those are oranges from N.Y.C. and...?\n",
      "2 How about pineapples?\n",
      "3 Not carrots!!!\n"
     ]
    }
   ],
   "source": [
    "import re\n",
    "sentences = re.split(r\"(?<!\\w\\.\\w.)(?<![A-Z][a-z]\\.)(?<=\\.|\\?)\\s\", doc_multsent) # how would I remember this pattern without Google/StackOverflow?\n",
    "for i, sent in enumerate(sentences):\n",
    "    print(i, sent)"
   ]
  },
  {
   "cell_type": "markdown",
   "metadata": {},
   "source": [
    "- in ```spaCy```!"
   ]
  },
  {
   "cell_type": "code",
   "execution_count": 90,
   "metadata": {},
   "outputs": [],
   "source": [
    "# same document, but initiate as the spaCy object...\n",
    "doc = nlp(doc_multsent)"
   ]
  },
  {
   "cell_type": "markdown",
   "metadata": {},
   "source": [
    "- Sentences are stored as a generator object\n",
    "    - Instead of storing sentences as a list, each sentence is stored as a item in the generator object \n",
    "    - Iteratable (i.e., can be used in a for loop)\n",
    "    - More efficient memory use\n",
    "    - https://wiki.python.org/moin/Generators"
   ]
  },
  {
   "cell_type": "code",
   "execution_count": 91,
   "metadata": {},
   "outputs": [
    {
     "data": {
      "text/plain": [
       "<generator at 0x1a17bc81e0>"
      ]
     },
     "execution_count": 91,
     "metadata": {},
     "output_type": "execute_result"
    }
   ],
   "source": [
    "doc.sents"
   ]
  },
  {
   "cell_type": "markdown",
   "metadata": {},
   "source": [
    "- Prining sentences with the index number"
   ]
  },
  {
   "cell_type": "code",
   "execution_count": 92,
   "metadata": {},
   "outputs": [
    {
     "name": "stdout",
     "output_type": "stream",
     "text": [
      "0 These are apples.\n",
      "1 Those are oranges from N.Y.C.\n",
      "2 and...?\n",
      "3 How about pineapples?\n",
      "4 Not carrots!!!\n"
     ]
    }
   ],
   "source": [
    "for i, sent in enumerate(doc.sents):\n",
    "    print(i, sent)"
   ]
  },
  {
   "cell_type": "markdown",
   "metadata": {},
   "source": [
    "### <font color='red'> Q4. Separate sentences in the following paragraph, and print sentences with the index number. </font>"
   ]
  },
  {
   "cell_type": "code",
   "execution_count": 93,
   "metadata": {},
   "outputs": [],
   "source": [
    "# from https://en.wikipedia.org/wiki/Portal:History\n",
    "sentences = \"\"\"History (from Greek ἱστορία, historia, meaning \"inquiry, knowledge acquired by investigation\") is the study of the past as it is described in written documents. Events occurring before written record are considered prehistory. It is an umbrella term that relates to past events as well as the memory, discovery, collection, organization, presentation, and interpretation of information about these events. Scholars who write about history are called historians.\n",
    "\n",
    "History can also refer to the academic discipline which uses a narrative to examine and analyse a sequence of past events, and objectively determine the patterns of cause and effect that determine them. Historians sometimes debate the nature of history and its usefulness by discussing the study of the discipline as an end in itself and as a way of providing \"perspective\" on the problems of the present.\n",
    "\n",
    "Stories common to a particular culture, but not supported by external sources (such as the tales surrounding King Arthur), are usually classified as cultural heritage or legends, because they do not show the \"disinterested investigation\" required of the discipline of history. Herodotus, a 5th-century BC Greek historian is considered within the Western tradition to be the \"father of history\", and, along with his contemporary Thucydides, helped form the foundations for the modern study of human history. Their works continue to be read today, and the gap between the culture-focused Herodotus and the military-focused Thucydides remains a point of contention or approach in modern historical writing. In East Asia, a state chronicle, the Spring and Autumn Annals was known to be compiled from as early as 722 BC although only 2nd-century BC texts survived.\n",
    "\n",
    "Ancient influences have helped spawn variant interpretations of the nature of history which have evolved over the centuries and continue to change today. The modern study of history is wide-ranging, and includes the study of specific regions and the study of certain topical or thematical elements of historical investigation. Often history is taught as part of primary and secondary education, and the academic study of history is a major discipline in university studies.\"\"\""
   ]
  },
  {
   "cell_type": "code",
   "execution_count": 94,
   "metadata": {},
   "outputs": [],
   "source": [
    "doc_wikisent = nlp(sentences)"
   ]
  },
  {
   "cell_type": "code",
   "execution_count": 95,
   "metadata": {},
   "outputs": [
    {
     "name": "stdout",
     "output_type": "stream",
     "text": [
      "History (from Greek ἱστορία, historia, meaning \"inquiry, knowledge acquired by investigation\") is the study of the past as it is described in written documents.\n",
      "Events occurring before written record are considered prehistory.\n",
      "It is an umbrella term that relates to past events as well as the memory, discovery, collection, organization, presentation, and interpretation of information about these events.\n",
      "Scholars who write about history are called historians.\n",
      "\n",
      "\n",
      "History can also refer to the academic discipline which uses a narrative to examine and analyse a sequence of past events, and objectively determine the patterns of cause and effect that determine them.\n",
      "Historians sometimes debate the nature of history and its usefulness by discussing the study of the discipline as an end in itself and as a way of providing \"perspective\" on the problems of the present.\n",
      "\n",
      "\n",
      "Stories common to a particular culture, but not supported by external sources (such as the tales surrounding King Arthur), are usually classified as cultural heritage or legends, because they do not show the \"disinterested investigation\" required of the discipline of history.\n",
      "Herodotus, a 5th-century BC Greek historian is considered within the Western tradition to be the \"father of history\", and, along with his contemporary Thucydides, helped form the foundations for the modern study of human history.\n",
      "Their works continue to be read today, and the gap between the culture-focused Herodotus and the military-focused\n",
      "Thucydides remains a point of contention or approach in modern historical writing.\n",
      "In East Asia, a state chronicle, the Spring and Autumn Annals was known to be compiled from as early as 722 BC although only 2nd-century BC texts survived.\n",
      "\n",
      "\n",
      "Ancient influences have helped spawn variant interpretations of the nature of history which have evolved over the centuries and continue to change today.\n",
      "The modern study of history is wide-ranging, and includes the study of specific regions and the study of certain topical or thematical elements of historical investigation.\n",
      "Often history is taught as part of primary and secondary education, and the academic study of history is a major discipline in university studies.\n"
     ]
    }
   ],
   "source": [
    "for sent in doc_wikisent.sents:\n",
    "\n",
    "    #for i, sent in enumerate(doc_wikisent.sents): ---- can also use this(it adds numbers to each sentence)\n",
    "      # print(i,token)\n",
    "    print(sent)"
   ]
  },
  {
   "cell_type": "markdown",
   "metadata": {},
   "source": [
    "## 1-3. POS tagging"
   ]
  },
  {
   "cell_type": "markdown",
   "metadata": {},
   "source": [
    "- I want to find words with particular part-of-speech!\n",
    "- Different part-of-speech words carry different information\n",
    "    - e.g., noun (subject), verb (action term), adjective (quality of the object) \n",
    "- https://spacy.io/api/annotation#pos-tagging"
   ]
  },
  {
   "cell_type": "markdown",
   "metadata": {},
   "source": [
    "- Yelp review!"
   ]
  },
  {
   "cell_type": "code",
   "execution_count": 96,
   "metadata": {},
   "outputs": [],
   "source": [
    "# from https://www.yelp.com/biz/ajishin-novi?hrid=juA4Zn2TX7845vNFn4syBQ&utm_campaign=www_review_share_popup&utm_medium=copy_link&utm_source=(direct)\n",
    "doc = nlp(\"\"\"One of the best Japanese restaurants in Novi. Simple food, great taste, amazingly price. I visit this place a least twice month.\"\"\")"
   ]
  },
  {
   "cell_type": "markdown",
   "metadata": {},
   "source": [
    "### <font color='red'> Q5a. What can you infer from this review? </font>\n",
    "- What type of the restaurant?\n",
    "- Location?\n",
    "- What did the reviewer liked about?\n",
    "- How often did the person visit the place?\n",
    "- Any other information?"
   ]
  },
  {
   "cell_type": "markdown",
   "metadata": {},
   "source": [
    "Japanese\n",
    "Novi\n",
    "taste\n",
    "twice a month \n",
    "price"
   ]
  },
  {
   "cell_type": "markdown",
   "metadata": {},
   "source": [
    "- multiple sentences exist in a document"
   ]
  },
  {
   "cell_type": "code",
   "execution_count": 97,
   "metadata": {},
   "outputs": [
    {
     "name": "stdout",
     "output_type": "stream",
     "text": [
      "0 One of the best Japanese restaurants in Novi.\n",
      "1 Simple food, great taste, amazingly price.\n",
      "2 I visit this place a least twice month.\n"
     ]
    }
   ],
   "source": [
    "for i, sent in enumerate(doc.sents):\n",
    "    print(i, sent)"
   ]
  },
  {
   "cell_type": "markdown",
   "metadata": {},
   "source": [
    "- Question: which words are adjective (ADJ)?"
   ]
  },
  {
   "cell_type": "code",
   "execution_count": 98,
   "metadata": {},
   "outputs": [
    {
     "name": "stdout",
     "output_type": "stream",
     "text": [
      "__sentence__: 0\n",
      "_token_ \t _POS_\n",
      "One \t NUM\n",
      "of \t ADP\n",
      "the \t DET\n",
      "best \t ADJ\n",
      "Japanese \t ADJ\n",
      "restaurants \t NOUN\n",
      "in \t ADP\n",
      "Novi \t PROPN\n",
      ". \t PUNCT\n",
      "__sentence__: 1\n",
      "_token_ \t _POS_\n",
      "Simple \t ADJ\n",
      "food \t NOUN\n",
      ", \t PUNCT\n",
      "great \t ADJ\n",
      "taste \t NOUN\n",
      ", \t PUNCT\n",
      "amazingly \t ADV\n",
      "price \t NOUN\n",
      ". \t PUNCT\n",
      "__sentence__: 2\n",
      "_token_ \t _POS_\n",
      "I \t PRON\n",
      "visit \t VERB\n",
      "this \t DET\n",
      "place \t NOUN\n",
      "a \t DET\n",
      "least \t ADJ\n",
      "twice \t ADJ\n",
      "month \t NOUN\n",
      ". \t PUNCT\n"
     ]
    }
   ],
   "source": [
    "for i, sent in enumerate(doc.sents):\n",
    "    print(\"__sentence__:\", i)\n",
    "    print(\"_token_ \\t _POS_\")\n",
    "    for token in sent:\n",
    "        print(token.text, \"\\t\", token.pos_)"
   ]
  },
  {
   "cell_type": "markdown",
   "metadata": {},
   "source": [
    "## 1-4. Gramatical dependency\n",
    "- Words are gramatically related in a sentence.\n",
    "- Conveys much semantic information about the sentential context."
   ]
  },
  {
   "cell_type": "code",
   "execution_count": 99,
   "metadata": {},
   "outputs": [
    {
     "ename": "TypeError",
     "evalue": "__init__() got an unexpected keyword argument 'encoding'",
     "output_type": "error",
     "traceback": [
      "\u001b[0;31m---------------------------------------------------------------------------\u001b[0m",
      "\u001b[0;31mTypeError\u001b[0m                                 Traceback (most recent call last)",
      "\u001b[0;32m<ipython-input-99-5275fc4f4d10>\u001b[0m in \u001b[0;36m<module>\u001b[0;34m()\u001b[0m\n\u001b[0;32m----> 1\u001b[0;31m \u001b[0mspacy\u001b[0m\u001b[0;34m.\u001b[0m\u001b[0mdisplacy\u001b[0m\u001b[0;34m.\u001b[0m\u001b[0mrender\u001b[0m\u001b[0;34m(\u001b[0m\u001b[0mdoc\u001b[0m\u001b[0;34m,\u001b[0m \u001b[0mstyle\u001b[0m\u001b[0;34m=\u001b[0m\u001b[0;34m'dep'\u001b[0m\u001b[0;34m,\u001b[0m \u001b[0mjupyter\u001b[0m\u001b[0;34m=\u001b[0m\u001b[0;32mTrue\u001b[0m\u001b[0;34m)\u001b[0m\u001b[0;34m\u001b[0m\u001b[0m\n\u001b[0m",
      "\u001b[0;32m/anaconda3/lib/python3.6/site-packages/spacy/displacy/__init__.py\u001b[0m in \u001b[0;36mrender\u001b[0;34m(docs, style, page, minify, jupyter, options, manual)\u001b[0m\n\u001b[1;32m     37\u001b[0m     \u001b[0mrenderer\u001b[0m\u001b[0;34m,\u001b[0m \u001b[0mconverter\u001b[0m \u001b[0;34m=\u001b[0m \u001b[0mfactories\u001b[0m\u001b[0;34m[\u001b[0m\u001b[0mstyle\u001b[0m\u001b[0;34m]\u001b[0m\u001b[0;34m\u001b[0m\u001b[0m\n\u001b[1;32m     38\u001b[0m     \u001b[0mrenderer\u001b[0m \u001b[0;34m=\u001b[0m \u001b[0mrenderer\u001b[0m\u001b[0;34m(\u001b[0m\u001b[0moptions\u001b[0m\u001b[0;34m=\u001b[0m\u001b[0moptions\u001b[0m\u001b[0;34m)\u001b[0m\u001b[0;34m\u001b[0m\u001b[0m\n\u001b[0;32m---> 39\u001b[0;31m     \u001b[0mparsed\u001b[0m \u001b[0;34m=\u001b[0m \u001b[0;34m[\u001b[0m\u001b[0mconverter\u001b[0m\u001b[0;34m(\u001b[0m\u001b[0mdoc\u001b[0m\u001b[0;34m,\u001b[0m \u001b[0moptions\u001b[0m\u001b[0;34m)\u001b[0m \u001b[0;32mfor\u001b[0m \u001b[0mdoc\u001b[0m \u001b[0;32min\u001b[0m \u001b[0mdocs\u001b[0m\u001b[0;34m]\u001b[0m \u001b[0;32mif\u001b[0m \u001b[0;32mnot\u001b[0m \u001b[0mmanual\u001b[0m \u001b[0;32melse\u001b[0m \u001b[0mdocs\u001b[0m\u001b[0;34m\u001b[0m\u001b[0m\n\u001b[0m\u001b[1;32m     40\u001b[0m     \u001b[0m_html\u001b[0m\u001b[0;34m[\u001b[0m\u001b[0;34m'parsed'\u001b[0m\u001b[0;34m]\u001b[0m \u001b[0;34m=\u001b[0m \u001b[0mrenderer\u001b[0m\u001b[0;34m.\u001b[0m\u001b[0mrender\u001b[0m\u001b[0;34m(\u001b[0m\u001b[0mparsed\u001b[0m\u001b[0;34m,\u001b[0m \u001b[0mpage\u001b[0m\u001b[0;34m=\u001b[0m\u001b[0mpage\u001b[0m\u001b[0;34m,\u001b[0m \u001b[0mminify\u001b[0m\u001b[0;34m=\u001b[0m\u001b[0mminify\u001b[0m\u001b[0;34m)\u001b[0m\u001b[0;34m.\u001b[0m\u001b[0mstrip\u001b[0m\u001b[0;34m(\u001b[0m\u001b[0;34m)\u001b[0m\u001b[0;34m\u001b[0m\u001b[0m\n\u001b[1;32m     41\u001b[0m     \u001b[0mhtml\u001b[0m \u001b[0;34m=\u001b[0m \u001b[0m_html\u001b[0m\u001b[0;34m[\u001b[0m\u001b[0;34m'parsed'\u001b[0m\u001b[0;34m]\u001b[0m\u001b[0;34m\u001b[0m\u001b[0m\n",
      "\u001b[0;32m/anaconda3/lib/python3.6/site-packages/spacy/displacy/__init__.py\u001b[0m in \u001b[0;36m<listcomp>\u001b[0;34m(.0)\u001b[0m\n\u001b[1;32m     37\u001b[0m     \u001b[0mrenderer\u001b[0m\u001b[0;34m,\u001b[0m \u001b[0mconverter\u001b[0m \u001b[0;34m=\u001b[0m \u001b[0mfactories\u001b[0m\u001b[0;34m[\u001b[0m\u001b[0mstyle\u001b[0m\u001b[0;34m]\u001b[0m\u001b[0;34m\u001b[0m\u001b[0m\n\u001b[1;32m     38\u001b[0m     \u001b[0mrenderer\u001b[0m \u001b[0;34m=\u001b[0m \u001b[0mrenderer\u001b[0m\u001b[0;34m(\u001b[0m\u001b[0moptions\u001b[0m\u001b[0;34m=\u001b[0m\u001b[0moptions\u001b[0m\u001b[0;34m)\u001b[0m\u001b[0;34m\u001b[0m\u001b[0m\n\u001b[0;32m---> 39\u001b[0;31m     \u001b[0mparsed\u001b[0m \u001b[0;34m=\u001b[0m \u001b[0;34m[\u001b[0m\u001b[0mconverter\u001b[0m\u001b[0;34m(\u001b[0m\u001b[0mdoc\u001b[0m\u001b[0;34m,\u001b[0m \u001b[0moptions\u001b[0m\u001b[0;34m)\u001b[0m \u001b[0;32mfor\u001b[0m \u001b[0mdoc\u001b[0m \u001b[0;32min\u001b[0m \u001b[0mdocs\u001b[0m\u001b[0;34m]\u001b[0m \u001b[0;32mif\u001b[0m \u001b[0;32mnot\u001b[0m \u001b[0mmanual\u001b[0m \u001b[0;32melse\u001b[0m \u001b[0mdocs\u001b[0m\u001b[0;34m\u001b[0m\u001b[0m\n\u001b[0m\u001b[1;32m     40\u001b[0m     \u001b[0m_html\u001b[0m\u001b[0;34m[\u001b[0m\u001b[0;34m'parsed'\u001b[0m\u001b[0;34m]\u001b[0m \u001b[0;34m=\u001b[0m \u001b[0mrenderer\u001b[0m\u001b[0;34m.\u001b[0m\u001b[0mrender\u001b[0m\u001b[0;34m(\u001b[0m\u001b[0mparsed\u001b[0m\u001b[0;34m,\u001b[0m \u001b[0mpage\u001b[0m\u001b[0;34m=\u001b[0m\u001b[0mpage\u001b[0m\u001b[0;34m,\u001b[0m \u001b[0mminify\u001b[0m\u001b[0;34m=\u001b[0m\u001b[0mminify\u001b[0m\u001b[0;34m)\u001b[0m\u001b[0;34m.\u001b[0m\u001b[0mstrip\u001b[0m\u001b[0;34m(\u001b[0m\u001b[0;34m)\u001b[0m\u001b[0;34m\u001b[0m\u001b[0m\n\u001b[1;32m     41\u001b[0m     \u001b[0mhtml\u001b[0m \u001b[0;34m=\u001b[0m \u001b[0m_html\u001b[0m\u001b[0;34m[\u001b[0m\u001b[0;34m'parsed'\u001b[0m\u001b[0;34m]\u001b[0m\u001b[0;34m\u001b[0m\u001b[0m\n",
      "\u001b[0;32m/anaconda3/lib/python3.6/site-packages/spacy/displacy/__init__.py\u001b[0m in \u001b[0;36mparse_deps\u001b[0;34m(orig_doc, options)\u001b[0m\n\u001b[1;32m     87\u001b[0m     \u001b[0mRETURNS\u001b[0m \u001b[0;34m(\u001b[0m\u001b[0mdict\u001b[0m\u001b[0;34m)\u001b[0m\u001b[0;34m:\u001b[0m \u001b[0mGenerated\u001b[0m \u001b[0mdependency\u001b[0m \u001b[0mparse\u001b[0m \u001b[0mkeyed\u001b[0m \u001b[0mby\u001b[0m \u001b[0mwords\u001b[0m \u001b[0;32mand\u001b[0m \u001b[0marcs\u001b[0m\u001b[0;34m.\u001b[0m\u001b[0;34m\u001b[0m\u001b[0m\n\u001b[1;32m     88\u001b[0m     \"\"\"\n\u001b[0;32m---> 89\u001b[0;31m     \u001b[0mdoc\u001b[0m \u001b[0;34m=\u001b[0m \u001b[0mDoc\u001b[0m\u001b[0;34m(\u001b[0m\u001b[0morig_doc\u001b[0m\u001b[0;34m.\u001b[0m\u001b[0mvocab\u001b[0m\u001b[0;34m)\u001b[0m\u001b[0;34m.\u001b[0m\u001b[0mfrom_bytes\u001b[0m\u001b[0;34m(\u001b[0m\u001b[0morig_doc\u001b[0m\u001b[0;34m.\u001b[0m\u001b[0mto_bytes\u001b[0m\u001b[0;34m(\u001b[0m\u001b[0;34m)\u001b[0m\u001b[0;34m)\u001b[0m\u001b[0;34m\u001b[0m\u001b[0m\n\u001b[0m\u001b[1;32m     90\u001b[0m     \u001b[0;32mif\u001b[0m \u001b[0;32mnot\u001b[0m \u001b[0mdoc\u001b[0m\u001b[0;34m.\u001b[0m\u001b[0mis_parsed\u001b[0m\u001b[0;34m:\u001b[0m\u001b[0;34m\u001b[0m\u001b[0m\n\u001b[1;32m     91\u001b[0m         \u001b[0muser_warning\u001b[0m\u001b[0;34m(\u001b[0m\u001b[0mWarnings\u001b[0m\u001b[0;34m.\u001b[0m\u001b[0mW005\u001b[0m\u001b[0;34m)\u001b[0m\u001b[0;34m\u001b[0m\u001b[0m\n",
      "\u001b[0;32mdoc.pyx\u001b[0m in \u001b[0;36mspacy.tokens.doc.Doc.to_bytes\u001b[0;34m()\u001b[0m\n",
      "\u001b[0;32m/anaconda3/lib/python3.6/site-packages/spacy/util.py\u001b[0m in \u001b[0;36mto_bytes\u001b[0;34m(getters, exclude)\u001b[0m\n\u001b[1;32m    484\u001b[0m         \u001b[0;32mif\u001b[0m \u001b[0mkey\u001b[0m \u001b[0;32mnot\u001b[0m \u001b[0;32min\u001b[0m \u001b[0mexclude\u001b[0m\u001b[0;34m:\u001b[0m\u001b[0;34m\u001b[0m\u001b[0m\n\u001b[1;32m    485\u001b[0m             \u001b[0mserialized\u001b[0m\u001b[0;34m[\u001b[0m\u001b[0mkey\u001b[0m\u001b[0;34m]\u001b[0m \u001b[0;34m=\u001b[0m \u001b[0mgetter\u001b[0m\u001b[0;34m(\u001b[0m\u001b[0;34m)\u001b[0m\u001b[0;34m\u001b[0m\u001b[0m\n\u001b[0;32m--> 486\u001b[0;31m     \u001b[0;32mreturn\u001b[0m \u001b[0mmsgpack\u001b[0m\u001b[0;34m.\u001b[0m\u001b[0mdumps\u001b[0m\u001b[0;34m(\u001b[0m\u001b[0mserialized\u001b[0m\u001b[0;34m,\u001b[0m \u001b[0muse_bin_type\u001b[0m\u001b[0;34m=\u001b[0m\u001b[0;32mTrue\u001b[0m\u001b[0;34m,\u001b[0m \u001b[0mencoding\u001b[0m\u001b[0;34m=\u001b[0m\u001b[0;34m'utf8'\u001b[0m\u001b[0;34m)\u001b[0m\u001b[0;34m\u001b[0m\u001b[0m\n\u001b[0m\u001b[1;32m    487\u001b[0m \u001b[0;34m\u001b[0m\u001b[0m\n\u001b[1;32m    488\u001b[0m \u001b[0;34m\u001b[0m\u001b[0m\n",
      "\u001b[0;32m/anaconda3/lib/python3.6/site-packages/msgpack_numpy.py\u001b[0m in \u001b[0;36mpackb\u001b[0;34m(o, **kwargs)\u001b[0m\n\u001b[1;32m    194\u001b[0m     \"\"\"\n\u001b[1;32m    195\u001b[0m \u001b[0;34m\u001b[0m\u001b[0m\n\u001b[0;32m--> 196\u001b[0;31m     \u001b[0;32mreturn\u001b[0m \u001b[0mPacker\u001b[0m\u001b[0;34m(\u001b[0m\u001b[0;34m**\u001b[0m\u001b[0mkwargs\u001b[0m\u001b[0;34m)\u001b[0m\u001b[0;34m.\u001b[0m\u001b[0mpack\u001b[0m\u001b[0;34m(\u001b[0m\u001b[0mo\u001b[0m\u001b[0;34m)\u001b[0m\u001b[0;34m\u001b[0m\u001b[0m\n\u001b[0m\u001b[1;32m    197\u001b[0m \u001b[0;34m\u001b[0m\u001b[0m\n\u001b[1;32m    198\u001b[0m \u001b[0;32mdef\u001b[0m \u001b[0munpack\u001b[0m\u001b[0;34m(\u001b[0m\u001b[0mstream\u001b[0m\u001b[0;34m,\u001b[0m \u001b[0;34m**\u001b[0m\u001b[0mkwargs\u001b[0m\u001b[0;34m)\u001b[0m\u001b[0;34m:\u001b[0m\u001b[0;34m\u001b[0m\u001b[0m\n",
      "\u001b[0;31mTypeError\u001b[0m: __init__() got an unexpected keyword argument 'encoding'"
     ]
    }
   ],
   "source": [
    "spacy.displacy.render(doc, style='dep', jupyter=True)"
   ]
  },
  {
   "cell_type": "markdown",
   "metadata": {},
   "source": [
    "web based implementations: https://explosion.ai/blog/displacy-js-nlp-visualizer"
   ]
  },
  {
   "cell_type": "markdown",
   "metadata": {},
   "source": [
    "- And dependency relationships also can be extracted as string"
   ]
  },
  {
   "cell_type": "code",
   "execution_count": null,
   "metadata": {},
   "outputs": [],
   "source": [
    "for token in doc:\n",
    "    print('\"' + token.text + '\", ', token.pos_, list(token.ancestors), (token.dep_))"
   ]
  },
  {
   "cell_type": "markdown",
   "metadata": {},
   "source": [
    "```spaCy``` follows the ```ClearNLP``` annotations for dependency parsing\n",
    "- https://github.com/clir/clearnlp-guidelines/blob/master/md/specifications/dependency_labels.md"
   ]
  },
  {
   "cell_type": "markdown",
   "metadata": {},
   "source": [
    "### Q5b. <font color='red'> (Now answer the same question based on the POS/dependency parsing results) What can you infer from this review? </font>\n",
    "- What type of the restaurant?\n",
    "- Location?\n",
    "- What did the reviewer liked about?\n",
    "- How often did the person visit the place?\n",
    "- Any other information?"
   ]
  },
  {
   "cell_type": "markdown",
   "metadata": {},
   "source": [
    "Japenese restaurant in Novi, likes the taste, visits this plae twice a month "
   ]
  },
  {
   "cell_type": "markdown",
   "metadata": {},
   "source": [
    "# 2. Word embedding"
   ]
  },
  {
   "cell_type": "markdown",
   "metadata": {},
   "source": [
    "- So far, we seen how we can extract some interesting syntactic characteristics from text from using ```spacy```\n",
    "- It extracted the characteristics, but did not indicate what it means\n",
    "- Can machines understand semantic relationship between words?"
   ]
  },
  {
   "cell_type": "markdown",
   "metadata": {},
   "source": [
    "- Distributional semantics\n",
    "    - Representing semantic information of words in a geometric semantic space\n",
    "        - Different relationship between words: explained by geometric relationship between words \n",
    "        - e.g., Related words are located closer to each other; \n",
    "    - And it's often called as *word embedding*"
   ]
  },
  {
   "cell_type": "markdown",
   "metadata": {},
   "source": [
    "#### Word2Vec\n",
    "- Developed by [Mikolov et al., 2013](https://papers.nips.cc/paper/5021-distributed-representations-of-words-and-phrases-and-their-compositionality.pdf)\n",
    "- Represent the meaning of the words as a vector\n",
    "    - Vector: numeric array\n",
    "    - Output of a neural network model that predicts the next word\n",
    "- Surprisingly, many different semantic informations can be represented from word vectors of ```Word2Vec```\n",
    "- (More explanation in here: https://www.tensorflow.org/tutorials/representation/word2vec)"
   ]
  },
  {
   "cell_type": "markdown",
   "metadata": {},
   "source": [
    "<img src=\"https://www.tensorflow.org/images/softmax-nplm.png\" width=\"400\">"
   ]
  },
  {
   "cell_type": "markdown",
   "metadata": {},
   "source": [
    "![](https://www.tensorflow.org/images/linear-relationships.png)"
   ]
  },
  {
   "cell_type": "markdown",
   "metadata": {},
   "source": [
    "### Let's try with some example: words in a semantic space\n",
    "$\\rightarrow$ https://projector.tensorflow.org"
   ]
  },
  {
   "cell_type": "markdown",
   "metadata": {},
   "source": [
    "### <font color='red'> Q6. Any interesting findings from TensorFlow Projector page? </font>"
   ]
  },
  {
   "cell_type": "markdown",
   "metadata": {},
   "source": [
    "Words like fruits were correlated with words such as : healthy eating, vegetables, tea. \n",
    "I searched the word apple, and related words were UX, developer"
   ]
  },
  {
   "cell_type": "markdown",
   "metadata": {},
   "source": [
    "## OK. Let's try some more details in our local machines!\n",
    "- Download the [pretrained model](https://drive.google.com/open?id=10GXpuviDJVa-k8ZmiYX3BVABNDRaA6tg)\n",
    "- We are using [gensim](https://radimrehurek.com/gensim/) package this time"
   ]
  },
  {
   "cell_type": "code",
   "execution_count": 103,
   "metadata": {},
   "outputs": [
    {
     "name": "stdout",
     "output_type": "stream",
     "text": [
      "Solving environment: done\n",
      "\n",
      "## Package Plan ##\n",
      "\n",
      "  environment location: /anaconda3\n",
      "\n",
      "  added / updated specs: \n",
      "    - gensim\n",
      "\n",
      "\n",
      "The following packages will be downloaded:\n",
      "\n",
      "    package                    |            build\n",
      "    ---------------------------|-----------------\n",
      "    smart_open-1.7.1           |           py36_0          67 KB\n",
      "    boto3-1.9.21               |           py36_0         107 KB\n",
      "    s3transfer-0.1.13          |           py36_0          76 KB\n",
      "    jmespath-0.9.3             |           py36_0          35 KB\n",
      "    gensim-3.4.0               |   py36h1de35cc_0        21.5 MB\n",
      "    botocore-1.12.23           |           py36_0         3.2 MB\n",
      "    ------------------------------------------------------------\n",
      "                                           Total:        24.9 MB\n",
      "\n",
      "The following NEW packages will be INSTALLED:\n",
      "\n",
      "    boto3:      1.9.21-py36_0       \n",
      "    botocore:   1.12.23-py36_0      \n",
      "    gensim:     3.4.0-py36h1de35cc_0\n",
      "    jmespath:   0.9.3-py36_0        \n",
      "    s3transfer: 0.1.13-py36_0       \n",
      "    smart_open: 1.7.1-py36_0        \n",
      "\n",
      "\n",
      "Downloading and Extracting Packages\n",
      "smart_open-1.7.1     | 67 KB     | ##################################### | 100% \n",
      "boto3-1.9.21         | 107 KB    | ##################################### | 100% \n",
      "s3transfer-0.1.13    | 76 KB     | ##################################### | 100% \n",
      "jmespath-0.9.3       | 35 KB     | ##################################### | 100% \n",
      "gensim-3.4.0         | 21.5 MB   | ##################################### | 100% \n",
      "botocore-1.12.23     | 3.2 MB    | ##################################### | 100% \n",
      "Preparing transaction: done\n",
      "Verifying transaction: done\n",
      "Executing transaction: done\n"
     ]
    }
   ],
   "source": [
    "! conda install -y gensim"
   ]
  },
  {
   "cell_type": "code",
   "execution_count": 105,
   "metadata": {},
   "outputs": [],
   "source": [
    "import gensim"
   ]
  },
  {
   "cell_type": "code",
   "execution_count": 107,
   "metadata": {},
   "outputs": [],
   "source": [
    "# from https://github.com/eyaler/word2vec-slim\n",
    "w2v_mod = gensim.models.KeyedVectors.load_word2vec_format(\"GoogleNews-vectors-negative300-SLIM.bin\", binary=True)"
   ]
  },
  {
   "cell_type": "markdown",
   "metadata": {},
   "source": [
    "## 2-1. Calculating similarity between words"
   ]
  },
  {
   "cell_type": "markdown",
   "metadata": {},
   "source": [
    "- Q: What's similarity between *school* and *student*?"
   ]
  },
  {
   "cell_type": "markdown",
   "metadata": {},
   "source": [
    "- the word vector for *school* looks like this:"
   ]
  },
  {
   "cell_type": "code",
   "execution_count": 108,
   "metadata": {},
   "outputs": [
    {
     "data": {
      "text/plain": [
       "array([ 3.70471478e-02,  1.14410305e-02,  1.49575379e-02,  8.87546614e-02,\n",
       "        3.96226160e-02, -2.67452672e-02,  6.33961856e-02, -1.90188568e-02,\n",
       "       -1.89445645e-03, -3.68490331e-02,  1.01037674e-01,  1.85235739e-02,\n",
       "        2.69433800e-02, -4.00188453e-02, -4.29905392e-02,  4.31886539e-02,\n",
       "       -8.12263638e-02,  5.72051527e-03,  5.54716662e-02, -3.56603563e-02,\n",
       "        8.32074955e-02,  6.93395808e-02,  4.72994987e-03,  6.97358102e-02,\n",
       "        1.96874887e-03, -1.41848966e-01,  9.22464067e-04,  7.48867467e-02,\n",
       "        4.85377051e-02, -1.02028241e-02,  4.14056368e-02, -4.33867648e-02,\n",
       "        1.62452739e-02,  3.04598873e-03, -6.61697686e-02, -6.06226064e-02,\n",
       "        9.27169248e-02, -2.04056483e-02,  1.88207440e-02,  5.07169515e-02,\n",
       "        5.29952534e-03,  5.19056283e-02,  4.47735563e-02, -2.05047056e-02,\n",
       "        1.39669729e-02,  5.86414747e-02,  6.97358102e-02, -1.12924464e-02,\n",
       "       -4.49716710e-02,  9.31131542e-02, -4.75471430e-02, -4.95282710e-02,\n",
       "       -1.44251098e-03, -4.61603515e-02,  8.59810784e-02, -8.47924054e-02,\n",
       "       -4.23962027e-02,  1.78301781e-02, -5.00235567e-03, -6.45848662e-02,\n",
       "       -3.58584709e-02, -1.62452739e-02,  4.31886539e-02, -2.06037611e-02,\n",
       "        3.14999819e-02,  5.94339259e-02, -7.01320320e-02,  8.39999467e-02,\n",
       "        8.96461774e-03,  1.64433867e-02, -7.44905248e-02,  4.91320454e-02,\n",
       "        3.52641307e-02,  1.49575379e-02, -4.51697856e-02,  1.44226328e-01,\n",
       "        1.16490498e-01,  1.29392615e-03,  7.01320320e-02,  6.41886443e-02,\n",
       "        2.02075355e-02, -6.77546784e-02, -6.10188320e-02,  8.43961760e-02,\n",
       "        2.23867781e-02,  1.60471611e-02,  1.50565952e-02,  9.62829590e-02,\n",
       "        6.73584491e-02, -1.14905592e-02, -7.37971254e-03, -7.68678784e-02,\n",
       "       -5.54716634e-03, -6.22075088e-02, -7.23112794e-03,  3.82358246e-02,\n",
       "        6.45848662e-02,  2.57547013e-02, -2.53584757e-02,  2.91226245e-02,\n",
       "       -1.94150824e-02, -5.42334560e-03, -5.62641174e-02,  2.48631928e-02,\n",
       "       -8.83584395e-02, -3.38773392e-02,  5.24999667e-03,  2.25848928e-02,\n",
       "       -8.81603267e-03, -8.43961760e-02, -9.35093760e-02,  6.89433515e-02,\n",
       "       -1.36698028e-02, -1.83254611e-02,  6.69622272e-02, -1.02152058e-04,\n",
       "        2.71414928e-02, -2.02075355e-02, -5.74527942e-02, -6.57735467e-02,\n",
       "       -4.55660112e-02, -6.16627000e-03,  1.00542391e-02, -8.81603267e-03,\n",
       "       -2.41697971e-02, -1.83254611e-02, -3.34811136e-02, -5.50754406e-02,\n",
       "        1.24439783e-03,  3.32829989e-02,  3.68490331e-02, -1.44226328e-01,\n",
       "       -7.88490102e-02, -4.14056368e-02, -5.38867600e-02, -1.21344263e-02,\n",
       "        1.10448049e-02, -4.23215215e-06, -1.12924464e-02,  2.85282843e-02,\n",
       "       -1.44226328e-01, -1.44226328e-01,  5.26980832e-02,  1.85731018e-03,\n",
       "       -1.05990507e-02,  8.71697590e-02, -3.92263904e-02, -3.86320539e-02,\n",
       "       -9.01414547e-03,  1.92695938e-04,  1.64037645e-01, -7.21131638e-02,\n",
       "       -3.66509221e-02,  6.06226064e-02, -8.36037248e-02, -5.23018539e-02,\n",
       "        1.03811257e-01, -9.70754102e-02,  4.35848795e-02, -2.95188501e-02,\n",
       "       -9.23207030e-02,  4.61603515e-02,  8.28112736e-02,  7.92452320e-02,\n",
       "       -3.14999819e-02,  4.68042167e-03, -1.24811241e-02, -8.51886272e-02,\n",
       "        2.48631928e-02,  2.13962141e-02, -8.83584395e-02,  1.59481037e-02,\n",
       "        6.43867534e-03, -1.06981069e-01,  6.83490140e-03,  2.65471544e-02,\n",
       "        6.98348647e-03,  4.97263856e-02,  4.23466740e-03,  1.00245222e-01,\n",
       "       -1.28773507e-03,  2.35754568e-02,  6.93395827e-03,  1.98113080e-02,\n",
       "        3.44716758e-02,  5.20046847e-03, -3.48679051e-02, -2.55565885e-02,\n",
       "        9.15282443e-02,  3.74433734e-02,  2.95188501e-02, -3.66509221e-02,\n",
       "       -8.81603267e-03,  7.25093931e-02, -1.08565971e-01, -3.32829989e-02,\n",
       "        4.67546880e-02, -7.60754272e-02, -2.98407837e-03, -7.92452320e-03,\n",
       "       -4.29905392e-02, -8.91508907e-03,  8.67735296e-02, -1.14905588e-01,\n",
       "       -2.73396056e-02, -1.18867852e-01,  7.08254287e-03, -1.03018805e-01,\n",
       "       -2.03065909e-02, -5.78861684e-04,  3.62546965e-02, -6.14150576e-02,\n",
       "        7.21131638e-02, -1.45018786e-01, -1.32339537e-01,  1.31547093e-01,\n",
       "       -4.12075222e-02,  2.41697971e-02, -5.50754406e-02, -5.82452491e-02,\n",
       "       -5.05188368e-02, -3.74433734e-02,  1.01532955e-02,  5.94339259e-02,\n",
       "        4.99244966e-02,  1.10943327e-02, -1.04603708e-01,  4.59622368e-02,\n",
       "        3.11037544e-02, -1.49575379e-02,  8.43961760e-02,  3.20943221e-02,\n",
       "        2.02075355e-02,  6.53773174e-02,  8.61791894e-03,  3.40754502e-02,\n",
       "        3.68985627e-03, -7.84527808e-02,  6.58726040e-03, -1.19858421e-02,\n",
       "        2.85282843e-02, -2.14952696e-02,  9.35093760e-02, -3.54622416e-02,\n",
       "       -1.10943332e-01, -4.71509136e-02, -6.65659979e-02, -2.67452672e-02,\n",
       "        6.63678860e-03, -2.48879567e-03,  1.29764071e-02,  3.96226160e-02,\n",
       "        5.62641174e-02,  5.78490235e-02, -3.54622416e-02, -1.08565971e-01,\n",
       "        4.69528027e-02, -1.05495220e-02,  7.82546680e-03,  1.02226354e-01,\n",
       "        1.86226312e-02,  5.66603430e-02, -1.00245222e-01, -3.74433734e-02,\n",
       "        3.88301648e-02, -2.27830056e-02,  1.47594251e-02,  2.69433800e-02,\n",
       "       -1.89197995e-02,  2.42688525e-02,  4.12075222e-02, -1.90188568e-02,\n",
       "        3.68490331e-02,  8.47924054e-02, -3.16980928e-02, -1.02226354e-01,\n",
       "        1.24415018e-01, -1.27584830e-01, -2.46650800e-02, -1.25999928e-01,\n",
       "       -4.75471430e-02, -2.05047056e-02, -5.54716662e-02,  1.02226354e-01,\n",
       "       -7.76603296e-02, -1.98113092e-04, -3.78395990e-02,  7.96414614e-02,\n",
       "        6.14150576e-02,  1.21245213e-01, -4.37829942e-02, -9.70754120e-03,\n",
       "       -5.98301515e-02, -2.71414928e-02,  4.25943136e-02, -2.32782885e-02,\n",
       "       -4.29905392e-02, -5.07664774e-03,  3.68490331e-02,  4.87358198e-02],\n",
       "      dtype=float32)"
      ]
     },
     "execution_count": 108,
     "metadata": {},
     "output_type": "execute_result"
    }
   ],
   "source": [
    "w2v_mod['school']"
   ]
  },
  {
   "cell_type": "code",
   "execution_count": 109,
   "metadata": {},
   "outputs": [
    {
     "data": {
      "text/plain": [
       "300"
      ]
     },
     "execution_count": 109,
     "metadata": {},
     "output_type": "execute_result"
    }
   ],
   "source": [
    "len(w2v_mod['school'])"
   ]
  },
  {
   "cell_type": "markdown",
   "metadata": {},
   "source": [
    "- and the word vector for *student* looks like this:"
   ]
  },
  {
   "cell_type": "code",
   "execution_count": 110,
   "metadata": {},
   "outputs": [
    {
     "data": {
      "text/plain": [
       "array([ 0.01336551,  0.00730235,  0.08037006,  0.05629445,  0.06479172,\n",
       "        0.01141821,  0.11400511, -0.01221483,  0.0559404 , -0.1359564 ,\n",
       "        0.01849928, -0.04779717, -0.04337151, -0.05027555, -0.0073466 ,\n",
       "        0.00477972, -0.02442967, -0.02389859, -0.00907261, -0.05098365,\n",
       "        0.00783343,  0.06302146, -0.00064449, -0.03328099, -0.03540531,\n",
       "       -0.17844278, -0.04956744, -0.002069  ,  0.06160524,  0.0366445 ,\n",
       "        0.03416613, -0.03983098, -0.03080262,  0.01964995, -0.02372156,\n",
       "       -0.00610742,  0.04071611,  0.0506296 , -0.03009452,  0.08072411,\n",
       "       -0.08638897,  0.0426634 , -0.01672901,  0.03115668,  0.0619593 ,\n",
       "       -0.02496075,  0.01451618, -0.03752963,  0.05771066,  0.0179682 ,\n",
       "       -0.03947692, -0.05452418,  0.0054657 , -0.01964995,  0.0906376 ,\n",
       "       -0.03452018, -0.04284043,  0.04036206,  0.07435116, -0.03629045,\n",
       "        0.00610742, -0.03452018, -0.00111748, -0.00489036,  0.03363505,\n",
       "       -0.0306256 ,  0.03080262, -0.02009252,  0.05735661,  0.03823774,\n",
       "       -0.08391059,  0.02991749,  0.00533293, -0.07718358, -0.06479172,\n",
       "        0.1586158 ,  0.05275392, -0.00624019,  0.03115668, -0.00068874,\n",
       "        0.00982497, -0.04921339, -0.00654998,  0.07470521, -0.06160524,\n",
       "        0.00986923, -0.04567285,  0.11117268, -0.01106416,  0.09028355,\n",
       "       -0.04089314, -0.13454019, -0.0559404 , -0.06018903, -0.04301745,\n",
       "        0.02673101,  0.06514578,  0.09559435, -0.0089841 , -0.073289  ,\n",
       "        0.01301145, -0.03823774, -0.03274991, -0.13949694, -0.03469721,\n",
       "       -0.02044657, -0.05239986, -0.06018903,  0.08674302, -0.08497275,\n",
       "       -0.13808072, -0.05912687,  0.03611342,  0.00385033,  0.02991749,\n",
       "       -0.04071611, -0.02903236, -0.01079862,  0.05417013,  0.06337551,\n",
       "        0.02478372,  0.02708506, -0.01787968, -0.05098365,  0.0007247 ,\n",
       "        0.02903236,  0.03770666,  0.00924964,  0.0279702 ,  0.09205382,\n",
       "       -0.01885333, -0.10834026, -0.04744312, -0.03646747, -0.07541332,\n",
       "       -0.04160124,  0.04779717,  0.01761414, -0.12533481,  0.01363105,\n",
       "       -0.12958345, -0.07647548, -0.03310397,  0.02407561, -0.00893984,\n",
       "        0.08568086, -0.0179682 ,  0.10904837,  0.05417013,  0.01646347,\n",
       "        0.14870232,  0.01110842, -0.02071211,  0.01637496, -0.01318848,\n",
       "       -0.07576737,  0.03876882, -0.07116468,  0.05558634,  0.01513577,\n",
       "       -0.10550784,  0.00508951,  0.04372556,  0.08497275, -0.01708306,\n",
       "        0.06727009,  0.06443767, -0.05841877,  0.04708907, -0.01141821,\n",
       "       -0.01708306, -0.01088713,  0.02584588, -0.05771066,  0.0366445 ,\n",
       "        0.01699455,  0.06372956, -0.00042044, -0.01203781,  0.05523229,\n",
       "        0.04390259, -0.05239986,  0.05523229, -0.05983498,  0.0619593 ,\n",
       "        0.02088914,  0.02195129,  0.00564272,  0.00955943, -0.04638096,\n",
       "        0.05275392, -0.01283443, -0.02478372,  0.16074012, -0.15932392,\n",
       "       -0.03292694,  0.06089714, -0.07505926,  0.01128544, -0.01363105,\n",
       "       -0.0619593 ,  0.07718358,  0.03575937, -0.08072411, -0.0846187 ,\n",
       "       -0.12958345, -0.01128544, -0.06125119, -0.03292694, -0.05487823,\n",
       "        0.07789169, -0.04390259,  0.08886734, -0.1352483 , -0.09488624,\n",
       "        0.04372556, -0.03505126,  0.00955943, -0.02832425, -0.01947292,\n",
       "       -0.00482397, -0.10338352,  0.01726009, -0.01602091,  0.02885533,\n",
       "        0.08638897,  0.00840876, -0.02159724,  0.06727009, -0.01504726,\n",
       "        0.07647548,  0.04815122, -0.00242305,  0.06018903, -0.02903236,\n",
       "       -0.04390259,  0.01079862, -0.02460669, -0.00241199,  0.11046458,\n",
       "        0.14162125, -0.05523229, -0.02920938,  0.01469321, -0.04815122,\n",
       "       -0.02637696, -0.11683753,  0.00588613, -0.06833225,  0.06408362,\n",
       "       -0.01557834,  0.00435928,  0.01858779,  0.06018903, -0.03983098,\n",
       "       -0.07789169,  0.01593239,  0.04407962, -0.01911887,  0.05912687,\n",
       "        0.0226594 ,  0.00832025, -0.06762415, -0.11400511, -0.00433715,\n",
       "        0.00840876, -0.0066385 ,  0.06939442, -0.07435116, -0.00272178,\n",
       "        0.03593639, -0.03416613,  0.02257089,  0.08001601, -0.05700256,\n",
       "       -0.0619593 ,  0.00615167, -0.10621594, -0.02655398, -0.06833225,\n",
       "        0.00294307, -0.01787968, -0.04089314,  0.06974847, -0.04779717,\n",
       "        0.03788368, -0.06549983,  0.04301745,  0.1246267 ,  0.08851328,\n",
       "       -0.05487823, -0.04602691, -0.073289  , -0.03328099,  0.02097765,\n",
       "        0.06231335,  0.01389659,  0.04160124,  0.03558234,  0.0313337 ],\n",
       "      dtype=float32)"
      ]
     },
     "execution_count": 110,
     "metadata": {},
     "output_type": "execute_result"
    }
   ],
   "source": [
    "w2v_mod['student']"
   ]
  },
  {
   "cell_type": "markdown",
   "metadata": {},
   "source": [
    "- the similarity between two word vectors is:"
   ]
  },
  {
   "cell_type": "code",
   "execution_count": 111,
   "metadata": {},
   "outputs": [
    {
     "data": {
      "text/plain": [
       "0.605562749213432"
      ]
     },
     "execution_count": 111,
     "metadata": {},
     "output_type": "execute_result"
    }
   ],
   "source": [
    "w2v_mod.similarity('school', 'student')"
   ]
  },
  {
   "cell_type": "markdown",
   "metadata": {},
   "source": [
    "### Methods for measuring similarity"
   ]
  },
  {
   "cell_type": "markdown",
   "metadata": {},
   "source": [
    "<table>\n",
    "<tr>\n",
    "    <td><img src=\"https://nickgrattan.files.wordpress.com/2014/06/screenhunter_76-jun-10-08-36.jpg\" width=\"400\"></td>\n",
    "    <td><img src=\"https://nickgrattan.files.wordpress.com/2014/06/screenhunter_77-jun-10-08-36.jpg\" width=\"400\"></td>\n",
    "    <td><img src=\"https://nickgrattan.files.wordpress.com/2014/06/screenhunter_77-jun-10-08-37.jpg\" width=\"400\"></td>\n",
    "</tr>\n",
    "</table>"
   ]
  },
  {
   "cell_type": "markdown",
   "metadata": {},
   "source": [
    "- Euclidean distance\n",
    "    - The most common use of distance\n",
    "    - $ \\sqrt{(x_1 - x_2)^2 + (y_1 - y_2)^2} $"
   ]
  },
  {
   "cell_type": "code",
   "execution_count": 112,
   "metadata": {},
   "outputs": [
    {
     "data": {
      "text/plain": [
       "7.615773105863909"
      ]
     },
     "execution_count": 112,
     "metadata": {},
     "output_type": "execute_result"
    }
   ],
   "source": [
    "# (images from https://nickgrattan.wordpress.com/2014/06/10/euclidean-manhattan-and-cosine-distance-measures-in-c/)\n",
    "np.sqrt(np.power((12-5), 2) + np.power((14-11), 2))"
   ]
  },
  {
   "cell_type": "markdown",
   "metadata": {},
   "source": [
    "- Manhattan distance\n",
    "    - Distance = the sum of differences in the grid\n",
    "    - $|x_1 - x_2| + |y_1 - y_2|$"
   ]
  },
  {
   "cell_type": "code",
   "execution_count": 113,
   "metadata": {},
   "outputs": [
    {
     "data": {
      "text/plain": [
       "10"
      ]
     },
     "execution_count": 113,
     "metadata": {},
     "output_type": "execute_result"
    }
   ],
   "source": [
    "np.abs(12-5) + np.abs(14-11)"
   ]
  },
  {
   "cell_type": "markdown",
   "metadata": {},
   "source": [
    "- Cosine similarity \n",
    "    - Often used to measure similarity between vectors\n",
    "    - $cos(\\theta) = \\frac{\\sum_{i=1}^{n} A_i B_i }{\\sqrt{\\sum_{i=1}^{n} A_i^2 } \\sqrt{\\sum_{i=1}^{n} B_i^2 }}$ \n",
    "    - https://en.wikipedia.org/wiki/Cosine_similarity"
   ]
  },
  {
   "cell_type": "code",
   "execution_count": 114,
   "metadata": {},
   "outputs": [
    {
     "data": {
      "text/plain": [
       "0.9605011450474118"
      ]
     },
     "execution_count": 114,
     "metadata": {},
     "output_type": "execute_result"
    }
   ],
   "source": [
    "\n",
    "a = np.array([12, 14])\n",
    "b = np.array([5, 11])\n",
    "a.dot(b) / (np.sqrt(np.sum(np.power(a, 2))) * np.sqrt(np.sum(np.power(b, 2))))"
   ]
  },
  {
   "cell_type": "code",
   "execution_count": 115,
   "metadata": {},
   "outputs": [],
   "source": [
    "# (image from http://blog.christianperone.com/2013/09/machine-learning-cosine-similarity-for-vector-space-models-part-iii/)"
   ]
  },
  {
   "cell_type": "markdown",
   "metadata": {},
   "source": [
    "![](http://blog.christianperone.com/wp-content/uploads/2013/09/cosinesimilarityfq1.png)"
   ]
  },
  {
   "cell_type": "markdown",
   "metadata": {},
   "source": [
    "- Cosine simiarity can go from -1 to 1\n",
    "- But usually, we deal with 0 to 1 scores for comparing words in ```Word2Vec```"
   ]
  },
  {
   "cell_type": "markdown",
   "metadata": {},
   "source": [
    "### <font color='red'> Q7a. What's the cosine similarity between *school* and *tiger*? </font>\n",
    "- How would you interprete the results?"
   ]
  },
  {
   "cell_type": "markdown",
   "metadata": {},
   "source": [
    "School and tiger are not closely related"
   ]
  },
  {
   "cell_type": "code",
   "execution_count": 116,
   "metadata": {},
   "outputs": [
    {
     "data": {
      "text/plain": [
       "0.08660267014184596"
      ]
     },
     "execution_count": 116,
     "metadata": {},
     "output_type": "execute_result"
    }
   ],
   "source": [
    "w2v_mod.similarity('school','tiger')\n"
   ]
  },
  {
   "cell_type": "markdown",
   "metadata": {},
   "source": [
    "### <font color='red'> Q7b. Try some other words. Any other interesting findings? </font>\n",
    "- Give 3 more examples.\n",
    "- How would you interprete the results?"
   ]
  },
  {
   "cell_type": "markdown",
   "metadata": {},
   "source": [
    "\n",
    "\n",
    "    "
   ]
  },
  {
   "cell_type": "code",
   "execution_count": 118,
   "metadata": {},
   "outputs": [
    {
     "data": {
      "text/plain": [
       "0.12948474159095913"
      ]
     },
     "execution_count": 118,
     "metadata": {},
     "output_type": "execute_result"
    }
   ],
   "source": [
    "w2v_mod.similarity('apple','tiger')\n"
   ]
  },
  {
   "cell_type": "code",
   "execution_count": 119,
   "metadata": {},
   "outputs": [
    {
     "data": {
      "text/plain": [
       "0.2793282415642869"
      ]
     },
     "execution_count": 119,
     "metadata": {},
     "output_type": "execute_result"
    }
   ],
   "source": [
    "w2v_mod.similarity('mystery','book')\n"
   ]
  },
  {
   "cell_type": "code",
   "execution_count": 123,
   "metadata": {},
   "outputs": [
    {
     "data": {
      "text/plain": [
       "0.1458959571236015"
      ]
     },
     "execution_count": 123,
     "metadata": {},
     "output_type": "execute_result"
    }
   ],
   "source": [
    "w2v_mod.similarity('numbers','math')\n"
   ]
  },
  {
   "cell_type": "markdown",
   "metadata": {},
   "source": [
    "Apple and tiger are not closely related.\n"
   ]
  },
  {
   "cell_type": "markdown",
   "metadata": {},
   "source": [
    "## 2-2. Analogy from word vectors"
   ]
  },
  {
   "cell_type": "markdown",
   "metadata": {},
   "source": [
    "<img src=\"https://www.tensorflow.org/images/linear-relationships.png\" width=\"800\">"
   ]
  },
  {
   "cell_type": "markdown",
   "metadata": {},
   "source": [
    "#### Can we approximate the relationship between words by doing - and + operations?"
   ]
  },
  {
   "cell_type": "markdown",
   "metadata": {},
   "source": [
    "- $woman - man + king \\approx ?$\n",
    "- How this works?\n",
    "    - $woman:man \\approx x:king $\n",
    "    - $\\rightarrow woman - man \\approx x - king $\n",
    "    - $\\rightarrow woman - man + king \\approx x$\n",
    "    - List top-10 words ($x$) that can solve the equation!"
   ]
  },
  {
   "cell_type": "code",
   "execution_count": 124,
   "metadata": {},
   "outputs": [
    {
     "data": {
      "text/plain": [
       "[('queen', 0.7118192911148071),\n",
       " ('monarch', 0.6189674735069275),\n",
       " ('princess', 0.5902431607246399),\n",
       " ('prince', 0.5377322435379028),\n",
       " ('kings', 0.5236844420433044),\n",
       " ('queens', 0.5181134343147278),\n",
       " ('sultan', 0.5098593235015869),\n",
       " ('monarchy', 0.5087411999702454),\n",
       " ('throne', 0.5005807280540466),\n",
       " ('royal', 0.4938204884529114)]"
      ]
     },
     "execution_count": 124,
     "metadata": {},
     "output_type": "execute_result"
    }
   ],
   "source": [
    "w2v_mod.most_similar(positive=['woman', 'king'], negative=['man'])"
   ]
  },
  {
   "cell_type": "markdown",
   "metadata": {},
   "source": [
    "- $Spain - Germany + Berlin \\approx ?$\n",
    "    - $\\rightarrow Spain - Germany \\approx x -  Berlin $"
   ]
  },
  {
   "cell_type": "code",
   "execution_count": 125,
   "metadata": {},
   "outputs": [
    {
     "data": {
      "text/plain": [
       "[('Madrid', 0.717348039150238),\n",
       " ('Barcelona', 0.5742595791816711),\n",
       " ('Malaga', 0.5547429323196411),\n",
       " ('Bilbao', 0.5404423475265503),\n",
       " ('Lisbon', 0.5366039276123047),\n",
       " ('Seville', 0.5312415361404419),\n",
       " ('Paris', 0.5251091718673706),\n",
       " ('Catalan', 0.5213973522186279),\n",
       " ('Rome', 0.5174577832221985),\n",
       " ('Bogota', 0.5146557688713074)]"
      ]
     },
     "execution_count": 125,
     "metadata": {},
     "output_type": "execute_result"
    }
   ],
   "source": [
    "w2v_mod.most_similar(positive=['Spain', 'Berlin'], negative=['Germany'])"
   ]
  },
  {
   "cell_type": "markdown",
   "metadata": {},
   "source": [
    "### <font color='red'> Q8. Any other interesting examples? </font>\n",
    "- Give 3 more examples.\n",
    "- How would you interprete the results?"
   ]
  },
  {
   "cell_type": "markdown",
   "metadata": {},
   "source": [
    "(type in your response here)"
   ]
  },
  {
   "cell_type": "code",
   "execution_count": 128,
   "metadata": {},
   "outputs": [
    {
     "data": {
      "text/plain": [
       "[('basketball', 0.6426762342453003),\n",
       " ('Football', 0.6121203303337097),\n",
       " ('hockey', 0.6100655794143677),\n",
       " ('Soccer', 0.5891383290290833),\n",
       " ('athletics', 0.5885828733444214),\n",
       " ('lacrosse', 0.583092987537384),\n",
       " ('baseball', 0.5744243860244751),\n",
       " ('sports', 0.5732904076576233),\n",
       " ('softball', 0.56239914894104),\n",
       " ('volleyball', 0.5569837093353271)]"
      ]
     },
     "execution_count": 128,
     "metadata": {},
     "output_type": "execute_result"
    }
   ],
   "source": [
    "w2v_mod.most_similar(positive=['football', 'soccer'], negative=['Spain'])"
   ]
  },
  {
   "cell_type": "markdown",
   "metadata": {},
   "source": [
    "Things related to football and soccer but excluding spain"
   ]
  },
  {
   "cell_type": "code",
   "execution_count": 130,
   "metadata": {},
   "outputs": [
    {
     "data": {
      "text/plain": [
       "[('gourmet', 0.5234178304672241),\n",
       " ('meal', 0.5120722055435181),\n",
       " ('restaurant', 0.510189414024353),\n",
       " ('canteen', 0.4998544156551361),\n",
       " ('cafeteria', 0.49321290850639343),\n",
       " ('culinary', 0.4917124807834625),\n",
       " ('Food', 0.4890577793121338),\n",
       " ('sandwich', 0.48656803369522095),\n",
       " ('meals', 0.4837532639503479),\n",
       " ('deli', 0.47556766867637634)]"
      ]
     },
     "execution_count": 130,
     "metadata": {},
     "output_type": "execute_result"
    }
   ],
   "source": [
    "w2v_mod.most_similar(positive=['kitchen', 'food'], negative=['appliances'])"
   ]
  },
  {
   "cell_type": "markdown",
   "metadata": {},
   "source": [
    "This shows things related to kitchen, excluding kitchen appliance"
   ]
  },
  {
   "cell_type": "code",
   "execution_count": 143,
   "metadata": {},
   "outputs": [
    {
     "data": {
      "text/plain": [
       "[('fruit', 0.7150787115097046),\n",
       " ('apples', 0.6175423264503479),\n",
       " ('berries', 0.6121837496757507),\n",
       " ('pears', 0.6036503314971924),\n",
       " ('cherries', 0.6006488800048828),\n",
       " ('berry', 0.5829967260360718),\n",
       " ('strawberries', 0.5813430547714233),\n",
       " ('peaches', 0.5721365213394165),\n",
       " ('apricots', 0.5691035985946655),\n",
       " ('plums', 0.5669896602630615)]"
      ]
     },
     "execution_count": 143,
     "metadata": {},
     "output_type": "execute_result"
    }
   ],
   "source": [
    "w2v_mod.most_similar(positive=['apple', 'fruits'], negative=['technology'])"
   ]
  },
  {
   "cell_type": "code",
   "execution_count": null,
   "metadata": {},
   "outputs": [],
   "source": [
    "This shows things related to apple, excluding technology"
   ]
  },
  {
   "cell_type": "markdown",
   "metadata": {},
   "source": [
    "## 2-3. Constructing the interpretable semantic scales "
   ]
  },
  {
   "cell_type": "markdown",
   "metadata": {},
   "source": [
    "- So far, we saw that word vectors effectively carries (although not perfect) the semantic information.\n",
    "- Can we design something more interpretable results from using the semantic space?"
   ]
  },
  {
   "cell_type": "markdown",
   "metadata": {},
   "source": [
    "- Let's re-try with real datapoints in [here](https://projector.tensorflow.org): *politics* words in a *bad-good* PCA space"
   ]
  },
  {
   "cell_type": "code",
   "execution_count": 131,
   "metadata": {},
   "outputs": [],
   "source": [
    "from scipy import spatial\n",
    " \n",
    "def cosine_similarity(x, y):\n",
    "    return(1 - spatial.distance.cosine(x, y))"
   ]
  },
  {
   "cell_type": "markdown",
   "metadata": {},
   "source": [
    "- Can we regenerate this results with our embedding model?"
   ]
  },
  {
   "cell_type": "markdown",
   "metadata": {},
   "source": [
    "### Let's plot words in the 2D space\n",
    "- Using Bad & Good axes\n",
    "- Calculate cosine similarity between an evaluating word (violence, discussion, and issues) with each scale's end (bad, and good)"
   ]
  },
  {
   "cell_type": "code",
   "execution_count": 132,
   "metadata": {},
   "outputs": [],
   "source": [
    "pol_words_sim_2d = pd.DataFrame([[cosine_similarity(w2v_mod['violence'], w2v_mod['good']), cosine_similarity(w2v_mod['violence'], w2v_mod['bad'])],\n",
    "                                 [cosine_similarity(w2v_mod['discussion'], w2v_mod['good']), cosine_similarity(w2v_mod['discussion'], w2v_mod['bad'])],\n",
    "                                 [cosine_similarity(w2v_mod['issues'], w2v_mod['good']), cosine_similarity(w2v_mod['issues'], w2v_mod['bad'])]],\n",
    "                                index=['violence', 'discussion', 'issues'], columns=['good', 'bad'])"
   ]
  },
  {
   "cell_type": "code",
   "execution_count": 133,
   "metadata": {},
   "outputs": [
    {
     "data": {
      "text/html": [
       "<div>\n",
       "<style scoped>\n",
       "    .dataframe tbody tr th:only-of-type {\n",
       "        vertical-align: middle;\n",
       "    }\n",
       "\n",
       "    .dataframe tbody tr th {\n",
       "        vertical-align: top;\n",
       "    }\n",
       "\n",
       "    .dataframe thead th {\n",
       "        text-align: right;\n",
       "    }\n",
       "</style>\n",
       "<table border=\"1\" class=\"dataframe\">\n",
       "  <thead>\n",
       "    <tr style=\"text-align: right;\">\n",
       "      <th></th>\n",
       "      <th>good</th>\n",
       "      <th>bad</th>\n",
       "    </tr>\n",
       "  </thead>\n",
       "  <tbody>\n",
       "    <tr>\n",
       "      <th>violence</th>\n",
       "      <td>-0.016942</td>\n",
       "      <td>0.091223</td>\n",
       "    </tr>\n",
       "    <tr>\n",
       "      <th>discussion</th>\n",
       "      <td>0.045935</td>\n",
       "      <td>-0.007224</td>\n",
       "    </tr>\n",
       "    <tr>\n",
       "      <th>issues</th>\n",
       "      <td>0.139897</td>\n",
       "      <td>0.118816</td>\n",
       "    </tr>\n",
       "  </tbody>\n",
       "</table>\n",
       "</div>"
      ],
      "text/plain": [
       "                good       bad\n",
       "violence   -0.016942  0.091223\n",
       "discussion  0.045935 -0.007224\n",
       "issues      0.139897  0.118816"
      ]
     },
     "execution_count": 133,
     "metadata": {},
     "output_type": "execute_result"
    }
   ],
   "source": [
    "pol_words_sim_2d"
   ]
  },
  {
   "cell_type": "markdown",
   "metadata": {},
   "source": [
    "- If we plot this:"
   ]
  },
  {
   "cell_type": "code",
   "execution_count": 134,
   "metadata": {},
   "outputs": [
    {
     "data": {
      "text/plain": [
       "<matplotlib.axes._subplots.AxesSubplot at 0x1a17be0898>"
      ]
     },
     "execution_count": 134,
     "metadata": {},
     "output_type": "execute_result"
    },
    {
     "data": {
      "image/png": "[encoded data removed]",
      "text/plain": [
       "<Figure size 432x288 with 1 Axes>"
      ]
     },
     "metadata": {},
     "output_type": "display_data"
    }
   ],
   "source": [
    "sns.scatterplot(x='good', y='bad', data=pol_words_sim_2d, hue=pol_words_sim_2d.index)"
   ]
  },
  {
   "cell_type": "markdown",
   "metadata": {},
   "source": [
    "- violence: less good, more bad\n",
    "- discussion: less bad, more good\n",
    "- issues: both bad and good"
   ]
  },
  {
   "cell_type": "markdown",
   "metadata": {},
   "source": [
    "### Can we do this in an 1D scale?\n",
    "(bad) --------------------?---- (good)"
   ]
  },
  {
   "cell_type": "markdown",
   "metadata": {},
   "source": [
    "- First, let's create the vector for *bad-good* scale"
   ]
  },
  {
   "cell_type": "code",
   "execution_count": 135,
   "metadata": {},
   "outputs": [],
   "source": [
    "scale_bad_good = w2v_mod['good'] - w2v_mod['bad']"
   ]
  },
  {
   "cell_type": "markdown",
   "metadata": {},
   "source": [
    "- Calculate the cosine similarity score of the word *violence* in the *bad-good* scale \n",
    "    - $sim(V(violence), V(bad) - V(good))$"
   ]
  },
  {
   "cell_type": "code",
   "execution_count": 136,
   "metadata": {},
   "outputs": [
    {
     "data": {
      "text/plain": [
       "-0.14428630471229553"
      ]
     },
     "execution_count": 136,
     "metadata": {},
     "output_type": "execute_result"
    }
   ],
   "source": [
    "cosine_similarity(w2v_mod['violence'], scale_bad_good)"
   ]
  },
  {
   "cell_type": "markdown",
   "metadata": {},
   "source": [
    "- $sim(V(discussion), V(bad) - V(good))$"
   ]
  },
  {
   "cell_type": "code",
   "execution_count": 137,
   "metadata": {},
   "outputs": [
    {
     "data": {
      "text/plain": [
       "0.0709114670753479"
      ]
     },
     "execution_count": 137,
     "metadata": {},
     "output_type": "execute_result"
    }
   ],
   "source": [
    "cosine_similarity(w2v_mod['discussion'], w2v_mod['good'] - w2v_mod['bad'])"
   ]
  },
  {
   "cell_type": "markdown",
   "metadata": {},
   "source": [
    "- $sim(V(issues), V(bad) - V(good))$"
   ]
  },
  {
   "cell_type": "code",
   "execution_count": 138,
   "metadata": {},
   "outputs": [
    {
     "data": {
      "text/plain": [
       "0.028121288865804672"
      ]
     },
     "execution_count": 138,
     "metadata": {},
     "output_type": "execute_result"
    }
   ],
   "source": [
    "\n",
    "\n",
    "\n",
    "cosine_similarity(w2v_mod['issues'], w2v_mod['good'] - w2v_mod['bad'])"
   ]
  },
  {
   "cell_type": "markdown",
   "metadata": {},
   "source": [
    "In summary, as displayed in Embedding Projector, words *violence*, *discussion*, and *issues* are located in the *bad-good* scale as following:"
   ]
  },
  {
   "cell_type": "code",
   "execution_count": 139,
   "metadata": {},
   "outputs": [],
   "source": [
    "pol_words_sim = pd.DataFrame([cosine_similarity(w2v_mod['violence'], w2v_mod['good'] - w2v_mod['bad']),\n",
    "                              cosine_similarity(w2v_mod['discussion'], w2v_mod['good'] - w2v_mod['bad']),\n",
    "                              cosine_similarity(w2v_mod['issues'], w2v_mod['good'] - w2v_mod['bad'])],\n",
    "                             index=['violence', 'discussion', 'issues'], columns=['cos_sim'])"
   ]
  },
  {
   "cell_type": "code",
   "execution_count": 140,
   "metadata": {},
   "outputs": [
    {
     "data": {
      "text/html": [
       "<div>\n",
       "<style scoped>\n",
       "    .dataframe tbody tr th:only-of-type {\n",
       "        vertical-align: middle;\n",
       "    }\n",
       "\n",
       "    .dataframe tbody tr th {\n",
       "        vertical-align: top;\n",
       "    }\n",
       "\n",
       "    .dataframe thead th {\n",
       "        text-align: right;\n",
       "    }\n",
       "</style>\n",
       "<table border=\"1\" class=\"dataframe\">\n",
       "  <thead>\n",
       "    <tr style=\"text-align: right;\">\n",
       "      <th></th>\n",
       "      <th>cos_sim</th>\n",
       "    </tr>\n",
       "  </thead>\n",
       "  <tbody>\n",
       "    <tr>\n",
       "      <th>violence</th>\n",
       "      <td>-0.144286</td>\n",
       "    </tr>\n",
       "    <tr>\n",
       "      <th>discussion</th>\n",
       "      <td>0.070911</td>\n",
       "    </tr>\n",
       "    <tr>\n",
       "      <th>issues</th>\n",
       "      <td>0.028121</td>\n",
       "    </tr>\n",
       "  </tbody>\n",
       "</table>\n",
       "</div>"
      ],
      "text/plain": [
       "             cos_sim\n",
       "violence   -0.144286\n",
       "discussion  0.070911\n",
       "issues      0.028121"
      ]
     },
     "execution_count": 140,
     "metadata": {},
     "output_type": "execute_result"
    }
   ],
   "source": [
    "pol_words_sim"
   ]
  },
  {
   "cell_type": "code",
   "execution_count": 141,
   "metadata": {},
   "outputs": [
    {
     "data": {
      "image/png": "[encoded data removed]",
      "text/plain": [
       "<Figure size 432x288 with 1 Axes>"
      ]
     },
     "metadata": {},
     "output_type": "display_data"
    }
   ],
   "source": [
    "ax = sns.barplot(x=pol_words_sim.index, y=pol_words_sim.cos_sim)\n",
    "ax.set(ylabel=\"bad_good scale\")\n",
    "plt.show()"
   ]
  },
  {
   "cell_type": "markdown",
   "metadata": {},
   "source": [
    "- *Violence* is more close to the *bad* end of the scale, while *discussion* is located towards the *good* end of the scale. *Issues* is located between those two words in the *bad-good* scale. "
   ]
  },
  {
   "cell_type": "markdown",
   "metadata": {},
   "source": [
    "### <font color='red'> Q9. (bonus) Select different scale and a set of words. How words are represented in the your suggested semantic scale? </font>\n",
    "- Why did you selected the particular scale and words? what's your interpretation?"
   ]
  },
  {
   "cell_type": "markdown",
   "metadata": {},
   "source": [
    "(type in your response here)"
   ]
  },
  {
   "cell_type": "code",
   "execution_count": null,
   "metadata": {},
   "outputs": [],
   "source": []
  },
  {
   "cell_type": "markdown",
   "metadata": {},
   "source": [
    "- more to read about this method:     http://bookworm.benschmidt.org/posts/2015-10-25-Word-Embeddings.html"
   ]
  }
 ],
 "metadata": {
  "kernelspec": {
   "display_name": "Python 3",
   "language": "python",
   "name": "python3"
  },
  "language_info": {
   "codemirror_mode": {
    "name": "ipython",
    "version": 3
   },
   "file_extension": ".py",
   "mimetype": "text/x-python",
   "name": "python",
   "nbconvert_exporter": "python",
   "pygments_lexer": "ipython3",
   "version": "3.6.5"
  },
  "toc-autonumbering": false,
  "toc-showcode": false,
  "toc-showmarkdowntxt": false,
  "toc-showtags": false
 },
 "nbformat": 4,
 "nbformat_minor": 2
}
